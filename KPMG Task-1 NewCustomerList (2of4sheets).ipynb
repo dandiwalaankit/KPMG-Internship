{
 "cells": [
  {
   "cell_type": "markdown",
   "metadata": {},
   "source": [
    "# Task-1: Data Quality Issues _ NewCustomerList"
   ]
  },
  {
   "cell_type": "markdown",
   "metadata": {},
   "source": [
    "The client has provided us with four datasets.\n",
    "They are:\n",
    "1) Customer Demographic\n",
    "2) Transaction details\n",
    "3) Customer address\n",
    "4) New customer list"
   ]
  },
  {
   "cell_type": "code",
   "execution_count": 1,
   "metadata": {},
   "outputs": [],
   "source": [
    "#Import the required librariesabs\n",
    "import pandas as pd"
   ]
  },
  {
   "cell_type": "markdown",
   "metadata": {},
   "source": [
    "## Reading one of the sheets in an Excel file saperately"
   ]
  },
  {
   "cell_type": "code",
   "execution_count": 2,
   "metadata": {},
   "outputs": [
    {
     "data": {
      "text/html": [
       "<div>\n",
       "<style scoped>\n",
       "    .dataframe tbody tr th:only-of-type {\n",
       "        vertical-align: middle;\n",
       "    }\n",
       "\n",
       "    .dataframe tbody tr th {\n",
       "        vertical-align: top;\n",
       "    }\n",
       "\n",
       "    .dataframe thead th {\n",
       "        text-align: right;\n",
       "    }\n",
       "</style>\n",
       "<table border=\"1\" class=\"dataframe\">\n",
       "  <thead>\n",
       "    <tr style=\"text-align: right;\">\n",
       "      <th></th>\n",
       "      <th>first_name</th>\n",
       "      <th>last_name</th>\n",
       "      <th>gender</th>\n",
       "      <th>past_3_years_bike_related_purchases</th>\n",
       "      <th>DOB</th>\n",
       "      <th>job_title</th>\n",
       "      <th>job_industry_category</th>\n",
       "      <th>wealth_segment</th>\n",
       "      <th>deceased_indicator</th>\n",
       "      <th>owns_car</th>\n",
       "      <th>...</th>\n",
       "      <th>state</th>\n",
       "      <th>country</th>\n",
       "      <th>property_valuation</th>\n",
       "      <th>Unnamed: 16</th>\n",
       "      <th>Unnamed: 17</th>\n",
       "      <th>Unnamed: 18</th>\n",
       "      <th>Unnamed: 19</th>\n",
       "      <th>Unnamed: 20</th>\n",
       "      <th>Rank</th>\n",
       "      <th>Value</th>\n",
       "    </tr>\n",
       "  </thead>\n",
       "  <tbody>\n",
       "    <tr>\n",
       "      <th>0</th>\n",
       "      <td>Chickie</td>\n",
       "      <td>Brister</td>\n",
       "      <td>Male</td>\n",
       "      <td>86</td>\n",
       "      <td>1957-07-12</td>\n",
       "      <td>General Manager</td>\n",
       "      <td>Manufacturing</td>\n",
       "      <td>Mass Customer</td>\n",
       "      <td>N</td>\n",
       "      <td>Yes</td>\n",
       "      <td>...</td>\n",
       "      <td>QLD</td>\n",
       "      <td>Australia</td>\n",
       "      <td>6</td>\n",
       "      <td>1.01</td>\n",
       "      <td>1.2625</td>\n",
       "      <td>1.578125</td>\n",
       "      <td>1.341406</td>\n",
       "      <td>1</td>\n",
       "      <td>1</td>\n",
       "      <td>1.718750</td>\n",
       "    </tr>\n",
       "    <tr>\n",
       "      <th>1</th>\n",
       "      <td>Morly</td>\n",
       "      <td>Genery</td>\n",
       "      <td>Male</td>\n",
       "      <td>69</td>\n",
       "      <td>1970-03-22</td>\n",
       "      <td>Structural Engineer</td>\n",
       "      <td>Property</td>\n",
       "      <td>Mass Customer</td>\n",
       "      <td>N</td>\n",
       "      <td>No</td>\n",
       "      <td>...</td>\n",
       "      <td>NSW</td>\n",
       "      <td>Australia</td>\n",
       "      <td>11</td>\n",
       "      <td>0.57</td>\n",
       "      <td>0.5700</td>\n",
       "      <td>0.712500</td>\n",
       "      <td>0.605625</td>\n",
       "      <td>1</td>\n",
       "      <td>1</td>\n",
       "      <td>1.718750</td>\n",
       "    </tr>\n",
       "    <tr>\n",
       "      <th>2</th>\n",
       "      <td>Ardelis</td>\n",
       "      <td>Forrester</td>\n",
       "      <td>Female</td>\n",
       "      <td>10</td>\n",
       "      <td>1974-08-28</td>\n",
       "      <td>Senior Cost Accountant</td>\n",
       "      <td>Financial Services</td>\n",
       "      <td>Affluent Customer</td>\n",
       "      <td>N</td>\n",
       "      <td>No</td>\n",
       "      <td>...</td>\n",
       "      <td>VIC</td>\n",
       "      <td>Australia</td>\n",
       "      <td>5</td>\n",
       "      <td>1.07</td>\n",
       "      <td>1.0700</td>\n",
       "      <td>1.070000</td>\n",
       "      <td>1.070000</td>\n",
       "      <td>1</td>\n",
       "      <td>1</td>\n",
       "      <td>1.718750</td>\n",
       "    </tr>\n",
       "    <tr>\n",
       "      <th>3</th>\n",
       "      <td>Lucine</td>\n",
       "      <td>Stutt</td>\n",
       "      <td>Female</td>\n",
       "      <td>64</td>\n",
       "      <td>1979-01-28</td>\n",
       "      <td>Account Representative III</td>\n",
       "      <td>Manufacturing</td>\n",
       "      <td>Affluent Customer</td>\n",
       "      <td>N</td>\n",
       "      <td>Yes</td>\n",
       "      <td>...</td>\n",
       "      <td>QLD</td>\n",
       "      <td>Australia</td>\n",
       "      <td>1</td>\n",
       "      <td>0.71</td>\n",
       "      <td>0.8875</td>\n",
       "      <td>0.887500</td>\n",
       "      <td>0.887500</td>\n",
       "      <td>4</td>\n",
       "      <td>4</td>\n",
       "      <td>1.703125</td>\n",
       "    </tr>\n",
       "    <tr>\n",
       "      <th>4</th>\n",
       "      <td>Melinda</td>\n",
       "      <td>Hadlee</td>\n",
       "      <td>Female</td>\n",
       "      <td>34</td>\n",
       "      <td>1965-09-21</td>\n",
       "      <td>Financial Analyst</td>\n",
       "      <td>Financial Services</td>\n",
       "      <td>Affluent Customer</td>\n",
       "      <td>N</td>\n",
       "      <td>No</td>\n",
       "      <td>...</td>\n",
       "      <td>NSW</td>\n",
       "      <td>Australia</td>\n",
       "      <td>9</td>\n",
       "      <td>0.53</td>\n",
       "      <td>0.5300</td>\n",
       "      <td>0.662500</td>\n",
       "      <td>0.662500</td>\n",
       "      <td>4</td>\n",
       "      <td>4</td>\n",
       "      <td>1.703125</td>\n",
       "    </tr>\n",
       "  </tbody>\n",
       "</table>\n",
       "<p>5 rows × 23 columns</p>\n",
       "</div>"
      ],
      "text/plain": [
       "  first_name  last_name  gender  past_3_years_bike_related_purchases  \\\n",
       "0    Chickie    Brister    Male                                   86   \n",
       "1      Morly     Genery    Male                                   69   \n",
       "2    Ardelis  Forrester  Female                                   10   \n",
       "3     Lucine      Stutt  Female                                   64   \n",
       "4    Melinda     Hadlee  Female                                   34   \n",
       "\n",
       "         DOB                   job_title job_industry_category  \\\n",
       "0 1957-07-12             General Manager         Manufacturing   \n",
       "1 1970-03-22         Structural Engineer              Property   \n",
       "2 1974-08-28      Senior Cost Accountant    Financial Services   \n",
       "3 1979-01-28  Account Representative III         Manufacturing   \n",
       "4 1965-09-21           Financial Analyst    Financial Services   \n",
       "\n",
       "      wealth_segment deceased_indicator owns_car  ...  state    country  \\\n",
       "0      Mass Customer                  N      Yes  ...    QLD  Australia   \n",
       "1      Mass Customer                  N       No  ...    NSW  Australia   \n",
       "2  Affluent Customer                  N       No  ...    VIC  Australia   \n",
       "3  Affluent Customer                  N      Yes  ...    QLD  Australia   \n",
       "4  Affluent Customer                  N       No  ...    NSW  Australia   \n",
       "\n",
       "   property_valuation Unnamed: 16 Unnamed: 17  Unnamed: 18  Unnamed: 19  \\\n",
       "0                   6        1.01      1.2625     1.578125     1.341406   \n",
       "1                  11        0.57      0.5700     0.712500     0.605625   \n",
       "2                   5        1.07      1.0700     1.070000     1.070000   \n",
       "3                   1        0.71      0.8875     0.887500     0.887500   \n",
       "4                   9        0.53      0.5300     0.662500     0.662500   \n",
       "\n",
       "   Unnamed: 20  Rank     Value  \n",
       "0            1     1  1.718750  \n",
       "1            1     1  1.718750  \n",
       "2            1     1  1.718750  \n",
       "3            4     4  1.703125  \n",
       "4            4     4  1.703125  \n",
       "\n",
       "[5 rows x 23 columns]"
      ]
     },
     "execution_count": 2,
     "metadata": {},
     "output_type": "execute_result"
    }
   ],
   "source": [
    "df=pd.read_excel('G:\\My Drive\\KPMG\\Task 1\\KPMG_ImportPython.xlsx',\"NewCustomerList\")\n",
    "df.head(5)"
   ]
  },
  {
   "cell_type": "markdown",
   "metadata": {},
   "source": [
    "Let us copy the same data frame (as below) so that changes to be made in future may not affect the Excel file"
   ]
  },
  {
   "cell_type": "code",
   "execution_count": 3,
   "metadata": {},
   "outputs": [],
   "source": [
    "df=df.copy()"
   ]
  },
  {
   "cell_type": "markdown",
   "metadata": {},
   "source": [
    "## Checking data types of each columns "
   ]
  },
  {
   "cell_type": "code",
   "execution_count": 4,
   "metadata": {},
   "outputs": [
    {
     "data": {
      "text/plain": [
       "first_name                                     object\n",
       "last_name                                      object\n",
       "gender                                         object\n",
       "past_3_years_bike_related_purchases             int64\n",
       "DOB                                    datetime64[ns]\n",
       "job_title                                      object\n",
       "job_industry_category                          object\n",
       "wealth_segment                                 object\n",
       "deceased_indicator                             object\n",
       "owns_car                                       object\n",
       "tenure                                          int64\n",
       "address                                        object\n",
       "postcode                                        int64\n",
       "state                                          object\n",
       "country                                        object\n",
       "property_valuation                              int64\n",
       "Unnamed: 16                                   float64\n",
       "Unnamed: 17                                   float64\n",
       "Unnamed: 18                                   float64\n",
       "Unnamed: 19                                   float64\n",
       "Unnamed: 20                                     int64\n",
       "Rank                                            int64\n",
       "Value                                         float64\n",
       "dtype: object"
      ]
     },
     "execution_count": 4,
     "metadata": {},
     "output_type": "execute_result"
    }
   ],
   "source": [
    "df.dtypes"
   ]
  },
  {
   "cell_type": "markdown",
   "metadata": {},
   "source": [
    "We can observe that some unwanted columns like 'Unnamed: 16', 'Unnamed: 17', 'Unnamed: 18', 'Unnamed: 19', 'Unnamed: 20' are there. Lets us remove the same."
   ]
  },
  {
   "cell_type": "markdown",
   "metadata": {},
   "source": [
    "Let us copy the column name by explorinng columns"
   ]
  },
  {
   "cell_type": "code",
   "execution_count": 5,
   "metadata": {},
   "outputs": [
    {
     "data": {
      "text/plain": [
       "Index(['first_name', 'last_name', 'gender',\n",
       "       'past_3_years_bike_related_purchases', 'DOB', 'job_title',\n",
       "       'job_industry_category', 'wealth_segment', 'deceased_indicator',\n",
       "       'owns_car', 'tenure', 'address', 'postcode', 'state', 'country',\n",
       "       'property_valuation', 'Unnamed: 16', 'Unnamed: 17', 'Unnamed: 18',\n",
       "       'Unnamed: 19', 'Unnamed: 20', 'Rank', 'Value'],\n",
       "      dtype='object')"
      ]
     },
     "execution_count": 5,
     "metadata": {},
     "output_type": "execute_result"
    }
   ],
   "source": [
    "df.columns"
   ]
  },
  {
   "cell_type": "markdown",
   "metadata": {},
   "source": [
    "The columns have been copied and will be gathered as \"removeColumns\""
   ]
  },
  {
   "cell_type": "code",
   "execution_count": 6,
   "metadata": {},
   "outputs": [],
   "source": [
    "removeColumns=['Unnamed: 16', 'Unnamed: 17', 'Unnamed: 18',\n",
    "       'Unnamed: 19', 'Unnamed: 20']"
   ]
  },
  {
   "cell_type": "markdown",
   "metadata": {},
   "source": [
    "Now, remove unwanted gathered columns from the data frame"
   ]
  },
  {
   "cell_type": "code",
   "execution_count": 7,
   "metadata": {},
   "outputs": [
    {
     "data": {
      "text/plain": [
       "Index(['first_name', 'last_name', 'gender',\n",
       "       'past_3_years_bike_related_purchases', 'DOB', 'job_title',\n",
       "       'job_industry_category', 'wealth_segment', 'deceased_indicator',\n",
       "       'owns_car', 'tenure', 'address', 'postcode', 'state', 'country',\n",
       "       'property_valuation', 'Rank', 'Value'],\n",
       "      dtype='object')"
      ]
     },
     "execution_count": 7,
     "metadata": {},
     "output_type": "execute_result"
    }
   ],
   "source": [
    "df.drop(columns=removeColumns, inplace=True)\n",
    "df.columns"
   ]
  },
  {
   "cell_type": "markdown",
   "metadata": {},
   "source": [
    "The unwanted columns are successfully removed."
   ]
  },
  {
   "cell_type": "markdown",
   "metadata": {},
   "source": [
    "## Exploring shape of the sheet "
   ]
  },
  {
   "cell_type": "code",
   "execution_count": 8,
   "metadata": {},
   "outputs": [
    {
     "data": {
      "text/plain": [
       "(1000, 18)"
      ]
     },
     "execution_count": 8,
     "metadata": {},
     "output_type": "execute_result"
    }
   ],
   "source": [
    "df.shape"
   ]
  },
  {
   "cell_type": "markdown",
   "metadata": {},
   "source": [
    "## Describe the data columnwise use \"df.describe()\""
   ]
  },
  {
   "cell_type": "markdown",
   "metadata": {},
   "source": [
    "## Checking for Null/missing values"
   ]
  },
  {
   "cell_type": "code",
   "execution_count": 9,
   "metadata": {},
   "outputs": [
    {
     "data": {
      "text/plain": [
       "first_name                               0\n",
       "last_name                               29\n",
       "gender                                   0\n",
       "past_3_years_bike_related_purchases      0\n",
       "DOB                                     17\n",
       "job_title                              106\n",
       "job_industry_category                  165\n",
       "wealth_segment                           0\n",
       "deceased_indicator                       0\n",
       "owns_car                                 0\n",
       "tenure                                   0\n",
       "address                                  0\n",
       "postcode                                 0\n",
       "state                                    0\n",
       "country                                  0\n",
       "property_valuation                       0\n",
       "Rank                                     0\n",
       "Value                                    0\n",
       "dtype: int64"
      ]
     },
     "execution_count": 9,
     "metadata": {},
     "output_type": "execute_result"
    }
   ],
   "source": [
    "df.isnull().sum()"
   ]
  },
  {
   "cell_type": "markdown",
   "metadata": {},
   "source": [
    "## Exploring columns "
   ]
  },
  {
   "cell_type": "code",
   "execution_count": 10,
   "metadata": {},
   "outputs": [
    {
     "data": {
      "text/plain": [
       "Mass Customer        508\n",
       "High Net Worth       251\n",
       "Affluent Customer    241\n",
       "Name: wealth_segment, dtype: int64"
      ]
     },
     "execution_count": 10,
     "metadata": {},
     "output_type": "execute_result"
    }
   ],
   "source": [
    "df.iloc[:,7].value_counts()"
   ]
  },
  {
   "cell_type": "markdown",
   "metadata": {},
   "source": [
    "Here, in square brackets [  ], : before comma indicates the row index, here : means all rows. Similarly values after comma indicates the column index, here 7 means 8th column Because, the indices in python start with zero."
   ]
  },
  {
   "cell_type": "markdown",
   "metadata": {},
   "source": [
    "Below is the other way to explore the same column, i.e. Transactions.iloc[:,7] = wealth_segment"
   ]
  },
  {
   "cell_type": "code",
   "execution_count": 11,
   "metadata": {},
   "outputs": [
    {
     "data": {
      "text/plain": [
       "Mass Customer        508\n",
       "High Net Worth       251\n",
       "Affluent Customer    241\n",
       "Name: wealth_segment, dtype: int64"
      ]
     },
     "execution_count": 11,
     "metadata": {},
     "output_type": "execute_result"
    }
   ],
   "source": [
    "df['wealth_segment'].value_counts()"
   ]
  },
  {
   "cell_type": "markdown",
   "metadata": {},
   "source": [
    "## Why to see value_counts seperately for each column?, Make a loop so that together we get the desired answer for all columns.. "
   ]
  },
  {
   "cell_type": "code",
   "execution_count": 12,
   "metadata": {},
   "outputs": [
    {
     "data": {
      "text/plain": [
       "Index(['first_name', 'last_name', 'gender',\n",
       "       'past_3_years_bike_related_purchases', 'DOB', 'job_title',\n",
       "       'job_industry_category', 'wealth_segment', 'deceased_indicator',\n",
       "       'owns_car', 'tenure', 'address', 'postcode', 'state', 'country',\n",
       "       'property_valuation', 'Rank', 'Value'],\n",
       "      dtype='object')"
      ]
     },
     "execution_count": 12,
     "metadata": {},
     "output_type": "execute_result"
    }
   ],
   "source": [
    "df.columns"
   ]
  },
  {
   "cell_type": "code",
   "execution_count": 13,
   "metadata": {},
   "outputs": [],
   "source": [
    "df_columns=['first_name', 'last_name', 'gender',\n",
    "       'past_3_years_bike_related_purchases', 'DOB', 'job_title',\n",
    "       'job_industry_category', 'wealth_segment', 'deceased_indicator',\n",
    "       'owns_car', 'tenure', 'address', 'postcode', 'state', 'country',\n",
    "       'property_valuation', 'Rank', 'Value']"
   ]
  },
  {
   "cell_type": "code",
   "execution_count": 14,
   "metadata": {},
   "outputs": [
    {
     "name": "stdout",
     "output_type": "stream",
     "text": [
      "Rozamond     3\n",
      "Mandie       3\n",
      "Dorian       3\n",
      "Tyne         2\n",
      "Cami         2\n",
      "Wyn          2\n",
      "Cristen      2\n",
      "Claudine     2\n",
      "Bartram      2\n",
      "Feodor       2\n",
      "Arty         2\n",
      "Nicol        2\n",
      "Laurie       2\n",
      "Liane        2\n",
      "Art          2\n",
      "Jesse        2\n",
      "Suzy         2\n",
      "Esther       2\n",
      "Otis         2\n",
      "Beverlee     2\n",
      "Harman       2\n",
      "Sada         2\n",
      "Marcelia     2\n",
      "Inglebert    2\n",
      "Morganica    2\n",
      "Aloysius     2\n",
      "Wheeler      2\n",
      "Cissiee      2\n",
      "Anthony      2\n",
      "Barth        2\n",
      "            ..\n",
      "Stephani     1\n",
      "Leonid       1\n",
      "Daisi        1\n",
      "Ange         1\n",
      "Fredia       1\n",
      "Kenneth      1\n",
      "Ivy          1\n",
      "Farra        1\n",
      "Sindee       1\n",
      "Celia        1\n",
      "Sheena       1\n",
      "Leese        1\n",
      "Leona        1\n",
      "Lyndell      1\n",
      "Mandi        1\n",
      "Bessie       1\n",
      "Zechariah    1\n",
      "Donica       1\n",
      "Jethro       1\n",
      "Andee        1\n",
      "Edin         1\n",
      "Malvin       1\n",
      "Bink         1\n",
      "Bastien      1\n",
      "Levy         1\n",
      "Briant       1\n",
      "Paulina      1\n",
      "Jordan       1\n",
      "Norina       1\n",
      "Vyky         1\n",
      "Name: first_name, Length: 940, dtype: int64\n",
      "Crellim          2\n",
      "Minshall         2\n",
      "Sissel           2\n",
      "Van den Velde    2\n",
      "Sturch           2\n",
      "Borsi            2\n",
      "Hallt            2\n",
      "Burgoine         2\n",
      "Shoesmith        2\n",
      "Eade             2\n",
      "Loalday          1\n",
      "Woodhams         1\n",
      "Drance           1\n",
      "Winchcum         1\n",
      "Laundon          1\n",
      "Crinidge         1\n",
      "Copins           1\n",
      "Mandy            1\n",
      "Blackader        1\n",
      "Olechnowicz      1\n",
      "Preddy           1\n",
      "Temby            1\n",
      "Moriarty         1\n",
      "Gorini           1\n",
      "Cleare           1\n",
      "Kleinplatz       1\n",
      "Wohler           1\n",
      "Summerly         1\n",
      "D'Agostini       1\n",
      "Filisov          1\n",
      "                ..\n",
      "Matten           1\n",
      "Mabley           1\n",
      "Leete            1\n",
      "Bertot           1\n",
      "Natt             1\n",
      "Thredder         1\n",
      "Strafford        1\n",
      "Ungerechts       1\n",
      "Rantoull         1\n",
      "Andrieux         1\n",
      "Fanstone         1\n",
      "Groucock         1\n",
      "Worsfold         1\n",
      "Lovett           1\n",
      "Poolton          1\n",
      "Birney           1\n",
      "Ortells          1\n",
      "Bannister        1\n",
      "Rouchy           1\n",
      "O'Shirine        1\n",
      "Patshull         1\n",
      "Simmig           1\n",
      "Woodroof         1\n",
      "Wellbelove       1\n",
      "Carlone          1\n",
      "Whellams         1\n",
      "Genery           1\n",
      "Paschke          1\n",
      "Keunemann        1\n",
      "Newport          1\n",
      "Name: last_name, Length: 961, dtype: int64\n",
      "Female    513\n",
      "Male      470\n",
      "U          17\n",
      "Name: gender, dtype: int64\n",
      "60    20\n",
      "59    18\n",
      "70    17\n",
      "42    17\n",
      "37    16\n",
      "11    16\n",
      "47    15\n",
      "84    14\n",
      "62    14\n",
      "57    14\n",
      "67    14\n",
      "79    14\n",
      "30    13\n",
      "15    13\n",
      "71    13\n",
      "64    13\n",
      "7     13\n",
      "44    13\n",
      "5     13\n",
      "46    12\n",
      "83    12\n",
      "82    12\n",
      "25    12\n",
      "50    12\n",
      "94    12\n",
      "56    12\n",
      "66    12\n",
      "61    11\n",
      "22    11\n",
      "74    11\n",
      "      ..\n",
      "96     9\n",
      "95     8\n",
      "14     8\n",
      "43     8\n",
      "33     8\n",
      "24     8\n",
      "63     8\n",
      "34     8\n",
      "91     8\n",
      "1      8\n",
      "53     8\n",
      "8      7\n",
      "89     7\n",
      "40     7\n",
      "41     7\n",
      "28     7\n",
      "31     7\n",
      "35     7\n",
      "80     6\n",
      "16     6\n",
      "10     6\n",
      "90     6\n",
      "76     6\n",
      "98     6\n",
      "77     6\n",
      "19     5\n",
      "9      5\n",
      "92     5\n",
      "85     4\n",
      "20     3\n",
      "Name: past_3_years_bike_related_purchases, Length: 100, dtype: int64\n",
      "1961-07-31    2\n",
      "1994-04-15    2\n",
      "1987-01-15    2\n",
      "1951-11-28    2\n",
      "1979-07-28    2\n",
      "1951-04-30    2\n",
      "1959-08-01    2\n",
      "1965-07-03    2\n",
      "1955-11-25    2\n",
      "1997-10-23    2\n",
      "1978-12-14    2\n",
      "1992-10-13    2\n",
      "1995-08-13    2\n",
      "1963-08-25    2\n",
      "1993-11-02    2\n",
      "1977-11-08    2\n",
      "1971-04-26    2\n",
      "1951-04-29    2\n",
      "1966-01-02    2\n",
      "1978-01-15    2\n",
      "1945-06-11    2\n",
      "1941-07-21    2\n",
      "1959-09-18    2\n",
      "1998-02-05    2\n",
      "1974-12-25    2\n",
      "1967-02-03    1\n",
      "1974-01-24    1\n",
      "1939-02-19    1\n",
      "1973-10-03    1\n",
      "1963-10-16    1\n",
      "             ..\n",
      "1979-01-09    1\n",
      "1969-07-20    1\n",
      "1954-03-08    1\n",
      "1957-10-17    1\n",
      "2002-01-04    1\n",
      "1977-09-11    1\n",
      "1986-01-10    1\n",
      "1951-02-05    1\n",
      "1943-02-08    1\n",
      "1982-12-10    1\n",
      "1942-08-23    1\n",
      "1955-07-17    1\n",
      "1995-05-18    1\n",
      "1976-10-08    1\n",
      "1975-08-04    1\n",
      "1978-04-02    1\n",
      "1980-03-14    1\n",
      "1997-03-13    1\n",
      "1996-01-21    1\n",
      "1986-12-03    1\n",
      "1994-02-10    1\n",
      "1976-08-24    1\n",
      "1966-09-17    1\n",
      "1960-08-31    1\n",
      "1951-10-14    1\n",
      "1947-04-21    1\n",
      "1995-10-10    1\n",
      "1964-08-23    1\n",
      "1962-05-12    1\n",
      "1958-04-21    1\n",
      "Name: DOB, Length: 958, dtype: int64\n",
      "Associate Professor                     15\n",
      "Software Consultant                     14\n",
      "Environmental Tech                      14\n",
      "Chief Design Engineer                   13\n",
      "Senior Sales Associate                  12\n",
      "Assistant Manager                       12\n",
      "Assistant Media Planner                 12\n",
      "Cost Accountant                         12\n",
      "VP Sales                                12\n",
      "Nurse Practicioner                      11\n",
      "Payment Adjustment Coordinator          11\n",
      "Social Worker                           11\n",
      "VP Marketing                            11\n",
      "Account Executive                       11\n",
      "VP Quality Control                      11\n",
      "Environmental Specialist                11\n",
      "Junior Executive                        11\n",
      "Chemical Engineer                       10\n",
      "Librarian                               10\n",
      "Human Resources Manager                 10\n",
      "Business Systems Development Analyst    10\n",
      "Financial Analyst                       10\n",
      "Product Engineer                        10\n",
      "Structural Engineer                     10\n",
      "Dental Hygienist                        10\n",
      "Nurse                                    9\n",
      "Senior Cost Accountant                   9\n",
      "VP Product Management                    9\n",
      "Clinical Specialist                      9\n",
      "Civil Engineer                           9\n",
      "                                        ..\n",
      "Account Representative II                1\n",
      "Research Assistant I                     1\n",
      "Statistician IV                          1\n",
      "Software Test Engineer II                1\n",
      "Web Developer I                          1\n",
      "Accountant I                             1\n",
      "Systems Administrator III                1\n",
      "Computer Systems Analyst IV              1\n",
      "Programmer Analyst IV                    1\n",
      "Developer II                             1\n",
      "Computer Systems Analyst II              1\n",
      "Health Coach I                           1\n",
      "Accounting Assistant II                  1\n",
      "Systems Administrator I                  1\n",
      "Safety Technician IV                     1\n",
      "Administrative Officer                   1\n",
      "Media Manager I                          1\n",
      "Accountant II                            1\n",
      "Systems Administrator IV                 1\n",
      "Staff Accountant I                       1\n",
      "Computer Systems Analyst III             1\n",
      "Human Resources Assistant I              1\n",
      "Statistician III                         1\n",
      "Automation Specialist IV                 1\n",
      "Engineer II                              1\n",
      "Database Administrator I                 1\n",
      "Safety Technician II                     1\n",
      "Staff Accountant II                      1\n",
      "Web Developer II                         1\n",
      "Developer III                            1\n",
      "Name: job_title, Length: 184, dtype: int64\n",
      "Financial Services    203\n",
      "Manufacturing         199\n",
      "Health                152\n",
      "Retail                 78\n",
      "Property               64\n",
      "IT                     51\n",
      "Entertainment          37\n",
      "Argiculture            26\n",
      "Telecommunications     25\n",
      "Name: job_industry_category, dtype: int64\n",
      "Mass Customer        508\n",
      "High Net Worth       251\n",
      "Affluent Customer    241\n",
      "Name: wealth_segment, dtype: int64\n",
      "N    1000\n",
      "Name: deceased_indicator, dtype: int64\n",
      "No     507\n",
      "Yes    493\n",
      "Name: owns_car, dtype: int64\n",
      "9     79\n",
      "13    74\n",
      "11    68\n",
      "10    63\n",
      "12    61\n",
      "7     60\n",
      "5     60\n",
      "17    59\n",
      "15    58\n",
      "8     55\n",
      "14    54\n",
      "16    49\n",
      "6     45\n",
      "18    36\n",
      "4     36\n",
      "19    34\n",
      "3     26\n",
      "21    24\n",
      "20    22\n",
      "2     15\n",
      "22    12\n",
      "1      8\n",
      "0      2\n",
      "Name: tenure, dtype: int64\n",
      "276 Derek Circle             1\n",
      "5512 Ronald Regan Hill       1\n",
      "77608 Donald Center          1\n",
      "76733 Sunbrook Terrace       1\n",
      "43094 Kedzie Pass            1\n",
      "3867 Barby Hill              1\n",
      "55 Dorton Point              1\n",
      "8427 Moulton Place           1\n",
      "71 Ludington Center          1\n",
      "25805 Eagan Place            1\n",
      "817 Loftsgordon Road         1\n",
      "1861 Chive Court             1\n",
      "564 Forest Dale Avenue       1\n",
      "1550 Russell Way             1\n",
      "32 Hazelcrest Court          1\n",
      "6 Killdeer Way               1\n",
      "28970 Monument Lane          1\n",
      "0 Larry Park                 1\n",
      "797 Westend Street           1\n",
      "8 Fordem Place               1\n",
      "590 Hagan Parkway            1\n",
      "5 Briar Crest Road           1\n",
      "9 Spohn Way                  1\n",
      "29307 Russell Avenue         1\n",
      "12 Eastlawn Terrace          1\n",
      "34 Jay Hill                  1\n",
      "59252 Maryland Drive         1\n",
      "28 Parkside Park             1\n",
      "0 Meadow Ridge Street        1\n",
      "2886 Buena Vista Terrace     1\n",
      "                            ..\n",
      "598 Memorial Place           1\n",
      "7 Clemons Circle             1\n",
      "62 Melrose Court             1\n",
      "5 Myrtle Junction            1\n",
      "207 Annamark Plaza           1\n",
      "18 Morning Circle            1\n",
      "2030 Anderson Lane           1\n",
      "936 Porter Lane              1\n",
      "345 Fieldstone Park          1\n",
      "05123 Bobwhite Plaza         1\n",
      "0736 West Crossing           1\n",
      "4882 Dakota Center           1\n",
      "6936 Homewood Avenue         1\n",
      "79 Armistice Parkway         1\n",
      "91 Calypso Trail             1\n",
      "64 Armistice Point           1\n",
      "555 Hermina Avenue           1\n",
      "10236 Mifflin Avenue         1\n",
      "56766 Mariners Cove Place    1\n",
      "92214 Spenser Road           1\n",
      "8 Grayhawk Circle            1\n",
      "07 Susan Lane                1\n",
      "2116 Continental Terrace     1\n",
      "8970 Anhalt Junction         1\n",
      "1607 Westridge Drive         1\n",
      "95306 John Wall Avenue       1\n",
      "14709 Portage Avenue         1\n",
      "8288 Lyons Way               1\n",
      "2 Jackson Place              1\n",
      "4 Valley Edge Plaza          1\n",
      "Name: address, Length: 1000, dtype: int64\n",
      "2232    9\n",
      "2145    9\n",
      "2168    7\n",
      "2750    7\n",
      "3029    7\n",
      "4207    7\n",
      "2148    7\n",
      "3977    7\n",
      "2066    6\n",
      "4350    6\n",
      "3030    6\n",
      "2121    6\n",
      "3163    6\n",
      "2026    6\n",
      "2770    6\n",
      "2170    6\n",
      "2560    6\n",
      "2250    5\n",
      "4500    5\n",
      "2323    5\n",
      "2114    5\n",
      "2230    5\n",
      "3810    5\n",
      "4165    5\n",
      "4556    5\n",
      "2763    5\n",
      "2155    5\n",
      "2209    5\n",
      "4000    5\n",
      "2161    4\n",
      "       ..\n",
      "3031    1\n",
      "2400    1\n",
      "4221    1\n",
      "4133    1\n",
      "3754    1\n",
      "3753    1\n",
      "3437    1\n",
      "2258    1\n",
      "3444    1\n",
      "2422    1\n",
      "2118    1\n",
      "4300    1\n",
      "3340    1\n",
      "4161    1\n",
      "4370    1\n",
      "3777    1\n",
      "2324    1\n",
      "3079    1\n",
      "2330    1\n",
      "2749    1\n",
      "2340    1\n",
      "2344    1\n",
      "4405    1\n",
      "2358    1\n",
      "3250    1\n",
      "4408    1\n",
      "2151    1\n",
      "4159    1\n",
      "3121    1\n",
      "3051    1\n",
      "Name: postcode, Length: 522, dtype: int64\n",
      "NSW    506\n",
      "VIC    266\n",
      "QLD    228\n",
      "Name: state, dtype: int64\n",
      "Australia    1000\n",
      "Name: country, dtype: int64\n",
      "9     173\n",
      "8     162\n",
      "7     138\n",
      "10    116\n",
      "6      70\n",
      "11     62\n",
      "5      57\n",
      "4      53\n",
      "3      51\n",
      "12     46\n",
      "2      42\n",
      "1      30\n",
      "Name: property_valuation, dtype: int64\n",
      "760     13\n",
      "259     12\n",
      "455      9\n",
      "904      9\n",
      "386      9\n",
      "133      9\n",
      "700      8\n",
      "820      8\n",
      "312      8\n",
      "536      8\n",
      "708      7\n",
      "913      7\n",
      "104      7\n",
      "810      7\n",
      "89       7\n",
      "252      7\n",
      "166      7\n",
      "181      7\n",
      "691      7\n",
      "575      7\n",
      "420      7\n",
      "832      6\n",
      "444      6\n",
      "195      6\n",
      "871      6\n",
      "845      6\n",
      "146      6\n",
      "486      6\n",
      "206      6\n",
      "930      6\n",
      "        ..\n",
      "574      1\n",
      "582      1\n",
      "594      1\n",
      "747      1\n",
      "371      1\n",
      "370      1\n",
      "230      1\n",
      "157      1\n",
      "920      1\n",
      "903      1\n",
      "898      1\n",
      "173      1\n",
      "882      1\n",
      "190      1\n",
      "201      1\n",
      "870      1\n",
      "218      1\n",
      "842      1\n",
      "750      1\n",
      "240      1\n",
      "248      1\n",
      "249      1\n",
      "284      1\n",
      "794      1\n",
      "793      1\n",
      "785      1\n",
      "773      1\n",
      "754      1\n",
      "355      1\n",
      "1000     1\n",
      "Name: Rank, Length: 324, dtype: int64\n",
      "0.637500    13\n",
      "1.062500    12\n",
      "1.237500     9\n",
      "0.892500     9\n",
      "0.945625     9\n",
      "0.500000     9\n",
      "0.825000     8\n",
      "1.020000     8\n",
      "0.687500     8\n",
      "0.584375     8\n",
      "1.073125     7\n",
      "1.287500     7\n",
      "0.499375     7\n",
      "0.796875     7\n",
      "1.158125     7\n",
      "1.312500     7\n",
      "0.587500     7\n",
      "0.913750     7\n",
      "0.680000     7\n",
      "0.690625     7\n",
      "1.175000     7\n",
      "0.662500     6\n",
      "1.275000     6\n",
      "1.225000     6\n",
      "0.669375     6\n",
      "1.025000     6\n",
      "1.137500     6\n",
      "0.575000     6\n",
      "0.541875     6\n",
      "1.147500     6\n",
      "            ..\n",
      "0.810000     1\n",
      "1.341406     1\n",
      "0.391000     1\n",
      "0.916406     1\n",
      "1.195312     1\n",
      "0.544000     1\n",
      "0.799000     1\n",
      "1.314844     1\n",
      "0.733125     1\n",
      "0.940000     1\n",
      "1.090000     1\n",
      "1.075781     1\n",
      "1.155469     1\n",
      "0.924375     1\n",
      "0.830000     1\n",
      "0.400000     1\n",
      "0.929688     1\n",
      "0.910000     1\n",
      "0.714000     1\n",
      "0.654500     1\n",
      "0.810156     1\n",
      "0.781250     1\n",
      "0.620000     1\n",
      "0.773500     1\n",
      "0.650000     1\n",
      "0.630000     1\n",
      "0.340000     1\n",
      "0.875500     1\n",
      "0.867000     1\n",
      "1.142187     1\n",
      "Name: Value, Length: 324, dtype: int64\n"
     ]
    }
   ],
   "source": [
    "for i in df_columns:\n",
    "    print(df[i].value_counts())"
   ]
  },
  {
   "cell_type": "markdown",
   "metadata": {},
   "source": [
    "## Determining percetage of  missing values in each column."
   ]
  },
  {
   "cell_type": "code",
   "execution_count": 15,
   "metadata": {},
   "outputs": [
    {
     "data": {
      "text/plain": [
       "first_name                               0\n",
       "last_name                               29\n",
       "gender                                   0\n",
       "past_3_years_bike_related_purchases      0\n",
       "DOB                                     17\n",
       "job_title                              106\n",
       "job_industry_category                  165\n",
       "wealth_segment                           0\n",
       "deceased_indicator                       0\n",
       "owns_car                                 0\n",
       "tenure                                   0\n",
       "address                                  0\n",
       "postcode                                 0\n",
       "state                                    0\n",
       "country                                  0\n",
       "property_valuation                       0\n",
       "Rank                                     0\n",
       "Value                                    0\n",
       "dtype: int64"
      ]
     },
     "execution_count": 15,
     "metadata": {},
     "output_type": "execute_result"
    }
   ],
   "source": [
    "missing_count=df.isnull().sum()\n",
    "missing_count"
   ]
  },
  {
   "cell_type": "code",
   "execution_count": 16,
   "metadata": {},
   "outputs": [
    {
     "data": {
      "text/plain": [
       "1000"
      ]
     },
     "execution_count": 16,
     "metadata": {},
     "output_type": "execute_result"
    }
   ],
   "source": [
    "total=len(df)\n",
    "total"
   ]
  },
  {
   "cell_type": "code",
   "execution_count": 17,
   "metadata": {},
   "outputs": [
    {
     "data": {
      "text/plain": [
       "first_name                              0.0\n",
       "last_name                               2.9\n",
       "gender                                  0.0\n",
       "past_3_years_bike_related_purchases     0.0\n",
       "DOB                                     1.7\n",
       "job_title                              10.6\n",
       "job_industry_category                  16.5\n",
       "wealth_segment                          0.0\n",
       "deceased_indicator                      0.0\n",
       "owns_car                                0.0\n",
       "tenure                                  0.0\n",
       "address                                 0.0\n",
       "postcode                                0.0\n",
       "state                                   0.0\n",
       "country                                 0.0\n",
       "property_valuation                      0.0\n",
       "Rank                                    0.0\n",
       "Value                                   0.0\n",
       "dtype: float64"
      ]
     },
     "execution_count": 17,
     "metadata": {},
     "output_type": "execute_result"
    }
   ],
   "source": [
    "percentageMissing=missing_count*100/total\n",
    "percentageMissing"
   ]
  },
  {
   "cell_type": "code",
   "execution_count": 18,
   "metadata": {},
   "outputs": [
    {
     "data": {
      "text/html": [
       "<div>\n",
       "<style scoped>\n",
       "    .dataframe tbody tr th:only-of-type {\n",
       "        vertical-align: middle;\n",
       "    }\n",
       "\n",
       "    .dataframe tbody tr th {\n",
       "        vertical-align: top;\n",
       "    }\n",
       "\n",
       "    .dataframe thead th {\n",
       "        text-align: right;\n",
       "    }\n",
       "</style>\n",
       "<table border=\"1\" class=\"dataframe\">\n",
       "  <thead>\n",
       "    <tr style=\"text-align: right;\">\n",
       "      <th></th>\n",
       "      <th>Heading</th>\n",
       "      <th>total_missing</th>\n",
       "      <th>Percentage_missing</th>\n",
       "    </tr>\n",
       "  </thead>\n",
       "  <tbody>\n",
       "    <tr>\n",
       "      <th>last_name</th>\n",
       "      <td>last_name</td>\n",
       "      <td>29</td>\n",
       "      <td>2.9</td>\n",
       "    </tr>\n",
       "    <tr>\n",
       "      <th>DOB</th>\n",
       "      <td>DOB</td>\n",
       "      <td>17</td>\n",
       "      <td>1.7</td>\n",
       "    </tr>\n",
       "    <tr>\n",
       "      <th>job_title</th>\n",
       "      <td>job_title</td>\n",
       "      <td>106</td>\n",
       "      <td>10.6</td>\n",
       "    </tr>\n",
       "    <tr>\n",
       "      <th>job_industry_category</th>\n",
       "      <td>job_industry_category</td>\n",
       "      <td>165</td>\n",
       "      <td>16.5</td>\n",
       "    </tr>\n",
       "  </tbody>\n",
       "</table>\n",
       "</div>"
      ],
      "text/plain": [
       "                                     Heading  total_missing  \\\n",
       "last_name                          last_name             29   \n",
       "DOB                                      DOB             17   \n",
       "job_title                          job_title            106   \n",
       "job_industry_category  job_industry_category            165   \n",
       "\n",
       "                       Percentage_missing  \n",
       "last_name                             2.9  \n",
       "DOB                                   1.7  \n",
       "job_title                            10.6  \n",
       "job_industry_category                16.5  "
      ]
     },
     "execution_count": 18,
     "metadata": {},
     "output_type": "execute_result"
    }
   ],
   "source": [
    "missing_data=pd. DataFrame({'Heading': df.columns, 'total_missing': missing_count,'Percentage_missing': percentageMissing})\n",
    "missing_data.sort_values('total_missing', ascending=False)\n",
    "missing_data=missing_data.loc[missing_data['total_missing'] > 0]\n",
    "missing_data"
   ]
  },
  {
   "cell_type": "code",
   "execution_count": 19,
   "metadata": {},
   "outputs": [],
   "source": [
    "missing_data.to_csv('missing_data_NewCustList.csv', index=False)"
   ]
  },
  {
   "cell_type": "markdown",
   "metadata": {},
   "source": [
    "## Deteriming if duplicate value is there in the data frame"
   ]
  },
  {
   "cell_type": "code",
   "execution_count": 20,
   "metadata": {},
   "outputs": [
    {
     "data": {
      "text/html": [
       "<div>\n",
       "<style scoped>\n",
       "    .dataframe tbody tr th:only-of-type {\n",
       "        vertical-align: middle;\n",
       "    }\n",
       "\n",
       "    .dataframe tbody tr th {\n",
       "        vertical-align: top;\n",
       "    }\n",
       "\n",
       "    .dataframe thead th {\n",
       "        text-align: right;\n",
       "    }\n",
       "</style>\n",
       "<table border=\"1\" class=\"dataframe\">\n",
       "  <thead>\n",
       "    <tr style=\"text-align: right;\">\n",
       "      <th></th>\n",
       "      <th>first_name</th>\n",
       "      <th>last_name</th>\n",
       "      <th>gender</th>\n",
       "      <th>past_3_years_bike_related_purchases</th>\n",
       "      <th>DOB</th>\n",
       "      <th>job_title</th>\n",
       "      <th>job_industry_category</th>\n",
       "      <th>wealth_segment</th>\n",
       "      <th>deceased_indicator</th>\n",
       "      <th>owns_car</th>\n",
       "      <th>tenure</th>\n",
       "      <th>address</th>\n",
       "      <th>postcode</th>\n",
       "      <th>state</th>\n",
       "      <th>country</th>\n",
       "      <th>property_valuation</th>\n",
       "      <th>Rank</th>\n",
       "      <th>Value</th>\n",
       "    </tr>\n",
       "  </thead>\n",
       "  <tbody>\n",
       "  </tbody>\n",
       "</table>\n",
       "</div>"
      ],
      "text/plain": [
       "Empty DataFrame\n",
       "Columns: [first_name, last_name, gender, past_3_years_bike_related_purchases, DOB, job_title, job_industry_category, wealth_segment, deceased_indicator, owns_car, tenure, address, postcode, state, country, property_valuation, Rank, Value]\n",
       "Index: []"
      ]
     },
     "execution_count": 20,
     "metadata": {},
     "output_type": "execute_result"
    }
   ],
   "source": [
    "duplicate=df[df.duplicated()]\n",
    "duplicate"
   ]
  },
  {
   "cell_type": "code",
   "execution_count": 21,
   "metadata": {},
   "outputs": [
    {
     "data": {
      "text/plain": [
       "0"
      ]
     },
     "execution_count": 21,
     "metadata": {},
     "output_type": "execute_result"
    }
   ],
   "source": [
    "len(duplicate)"
   ]
  },
  {
   "cell_type": "markdown",
   "metadata": {},
   "source": [
    "## Viewing categorical data"
   ]
  },
  {
   "cell_type": "code",
   "execution_count": 22,
   "metadata": {},
   "outputs": [
    {
     "data": {
      "text/plain": [
       "Female    513\n",
       "Male      470\n",
       "U          17\n",
       "Name: gender, dtype: int64"
      ]
     },
     "execution_count": 22,
     "metadata": {},
     "output_type": "execute_result"
    }
   ],
   "source": [
    "df['gender'].value_counts()"
   ]
  },
  {
   "cell_type": "code",
   "execution_count": 23,
   "metadata": {},
   "outputs": [
    {
     "data": {
      "text/plain": [
       "Associate Professor                     15\n",
       "Software Consultant                     14\n",
       "Environmental Tech                      14\n",
       "Chief Design Engineer                   13\n",
       "Senior Sales Associate                  12\n",
       "Assistant Manager                       12\n",
       "Assistant Media Planner                 12\n",
       "Cost Accountant                         12\n",
       "VP Sales                                12\n",
       "Nurse Practicioner                      11\n",
       "Payment Adjustment Coordinator          11\n",
       "Social Worker                           11\n",
       "VP Marketing                            11\n",
       "Account Executive                       11\n",
       "VP Quality Control                      11\n",
       "Environmental Specialist                11\n",
       "Junior Executive                        11\n",
       "Chemical Engineer                       10\n",
       "Librarian                               10\n",
       "Human Resources Manager                 10\n",
       "Business Systems Development Analyst    10\n",
       "Financial Analyst                       10\n",
       "Product Engineer                        10\n",
       "Structural Engineer                     10\n",
       "Dental Hygienist                        10\n",
       "Nurse                                    9\n",
       "Senior Cost Accountant                   9\n",
       "VP Product Management                    9\n",
       "Clinical Specialist                      9\n",
       "Civil Engineer                           9\n",
       "                                        ..\n",
       "Account Representative II                1\n",
       "Research Assistant I                     1\n",
       "Statistician IV                          1\n",
       "Software Test Engineer II                1\n",
       "Web Developer I                          1\n",
       "Accountant I                             1\n",
       "Systems Administrator III                1\n",
       "Computer Systems Analyst IV              1\n",
       "Programmer Analyst IV                    1\n",
       "Developer II                             1\n",
       "Computer Systems Analyst II              1\n",
       "Health Coach I                           1\n",
       "Accounting Assistant II                  1\n",
       "Systems Administrator I                  1\n",
       "Safety Technician IV                     1\n",
       "Administrative Officer                   1\n",
       "Media Manager I                          1\n",
       "Accountant II                            1\n",
       "Systems Administrator IV                 1\n",
       "Staff Accountant I                       1\n",
       "Computer Systems Analyst III             1\n",
       "Human Resources Assistant I              1\n",
       "Statistician III                         1\n",
       "Automation Specialist IV                 1\n",
       "Engineer II                              1\n",
       "Database Administrator I                 1\n",
       "Safety Technician II                     1\n",
       "Staff Accountant II                      1\n",
       "Web Developer II                         1\n",
       "Developer III                            1\n",
       "Name: job_title, Length: 184, dtype: int64"
      ]
     },
     "execution_count": 23,
     "metadata": {},
     "output_type": "execute_result"
    }
   ],
   "source": [
    "df['job_title'].value_counts()"
   ]
  },
  {
   "cell_type": "code",
   "execution_count": 24,
   "metadata": {},
   "outputs": [
    {
     "data": {
      "text/plain": [
       "Financial Services    203\n",
       "Manufacturing         199\n",
       "Health                152\n",
       "Retail                 78\n",
       "Property               64\n",
       "IT                     51\n",
       "Entertainment          37\n",
       "Argiculture            26\n",
       "Telecommunications     25\n",
       "Name: job_industry_category, dtype: int64"
      ]
     },
     "execution_count": 24,
     "metadata": {},
     "output_type": "execute_result"
    }
   ],
   "source": [
    "df['job_industry_category'].value_counts()"
   ]
  },
  {
   "cell_type": "code",
   "execution_count": 25,
   "metadata": {},
   "outputs": [
    {
     "data": {
      "text/plain": [
       "Mass Customer        508\n",
       "High Net Worth       251\n",
       "Affluent Customer    241\n",
       "Name: wealth_segment, dtype: int64"
      ]
     },
     "execution_count": 25,
     "metadata": {},
     "output_type": "execute_result"
    }
   ],
   "source": [
    "df['wealth_segment'].value_counts()"
   ]
  },
  {
   "cell_type": "code",
   "execution_count": 26,
   "metadata": {},
   "outputs": [
    {
     "data": {
      "text/plain": [
       "N    1000\n",
       "Name: deceased_indicator, dtype: int64"
      ]
     },
     "execution_count": 26,
     "metadata": {},
     "output_type": "execute_result"
    }
   ],
   "source": [
    "df['deceased_indicator'].value_counts()"
   ]
  },
  {
   "cell_type": "code",
   "execution_count": 27,
   "metadata": {},
   "outputs": [
    {
     "data": {
      "text/plain": [
       "No     507\n",
       "Yes    493\n",
       "Name: owns_car, dtype: int64"
      ]
     },
     "execution_count": 27,
     "metadata": {},
     "output_type": "execute_result"
    }
   ],
   "source": [
    "df['owns_car'].value_counts()"
   ]
  },
  {
   "cell_type": "code",
   "execution_count": 28,
   "metadata": {},
   "outputs": [
    {
     "data": {
      "text/plain": [
       "NSW    506\n",
       "VIC    266\n",
       "QLD    228\n",
       "Name: state, dtype: int64"
      ]
     },
     "execution_count": 28,
     "metadata": {},
     "output_type": "execute_result"
    }
   ],
   "source": [
    "df['state'].value_counts()"
   ]
  },
  {
   "cell_type": "code",
   "execution_count": 29,
   "metadata": {},
   "outputs": [
    {
     "data": {
      "text/plain": [
       "Australia    1000\n",
       "Name: country, dtype: int64"
      ]
     },
     "execution_count": 29,
     "metadata": {},
     "output_type": "execute_result"
    }
   ],
   "source": [
    "df['country'].value_counts()"
   ]
  },
  {
   "cell_type": "markdown",
   "metadata": {},
   "source": [
    "## Adding Age (Calculated from DOB) into data frame "
   ]
  },
  {
   "cell_type": "code",
   "execution_count": 30,
   "metadata": {},
   "outputs": [],
   "source": [
    "now = pd.Timestamp('now')"
   ]
  },
  {
   "cell_type": "code",
   "execution_count": 31,
   "metadata": {},
   "outputs": [
    {
     "data": {
      "text/plain": [
       "0   1957-07-12\n",
       "1   1970-03-22\n",
       "2   1974-08-28\n",
       "3   1979-01-28\n",
       "4   1965-09-21\n",
       "Name: DOB, dtype: datetime64[ns]"
      ]
     },
     "execution_count": 31,
     "metadata": {},
     "output_type": "execute_result"
    }
   ],
   "source": [
    "df['DOB']=pd.to_datetime(df['DOB'], format='%m%d%y')\n",
    "df['DOB'].head()"
   ]
  },
  {
   "cell_type": "code",
   "execution_count": 32,
   "metadata": {},
   "outputs": [
    {
     "data": {
      "text/plain": [
       "0    65.0\n",
       "1    52.0\n",
       "2    48.0\n",
       "3    43.0\n",
       "4    57.0\n",
       "Name: age, dtype: float64"
      ]
     },
     "execution_count": 32,
     "metadata": {},
     "output_type": "execute_result"
    }
   ],
   "source": [
    "import numpy as np\n",
    "df['DOB']=df['DOB'].where(df['DOB']<now,df['DOB']-np.timedelta64(100,'Y'))\n",
    "df['age']=(now-df['DOB']).astype('<m8[Y]')\n",
    "df['age'].head()"
   ]
  },
  {
   "cell_type": "markdown",
   "metadata": {},
   "source": [
    "## Replacing value in columns "
   ]
  },
  {
   "cell_type": "code",
   "execution_count": 33,
   "metadata": {},
   "outputs": [
    {
     "data": {
      "text/plain": [
       "0    M\n",
       "1    M\n",
       "2    F\n",
       "3    F\n",
       "4    F\n",
       "Name: gender, dtype: object"
      ]
     },
     "execution_count": 33,
     "metadata": {},
     "output_type": "execute_result"
    }
   ],
   "source": [
    "df=df.replace({'gender':{'Female':'F', 'Male':'M'}})\n",
    "df['gender'].head()"
   ]
  },
  {
   "cell_type": "code",
   "execution_count": 34,
   "metadata": {},
   "outputs": [
    {
     "data": {
      "text/plain": [
       "F    513\n",
       "M    470\n",
       "U     17\n",
       "Name: gender, dtype: int64"
      ]
     },
     "execution_count": 34,
     "metadata": {},
     "output_type": "execute_result"
    }
   ],
   "source": [
    "df['gender'].value_counts()"
   ]
  },
  {
   "cell_type": "markdown",
   "metadata": {},
   "source": [
    "## Save the data frame in '.csv' fromat"
   ]
  },
  {
   "cell_type": "code",
   "execution_count": 35,
   "metadata": {},
   "outputs": [],
   "source": [
    "df.to_csv('NewCustList_Done.csv', index=False)"
   ]
  }
 ],
 "metadata": {
  "kernelspec": {
   "display_name": "Python 3",
   "language": "python",
   "name": "python3"
  },
  "language_info": {
   "codemirror_mode": {
    "name": "ipython",
    "version": 3
   },
   "file_extension": ".py",
   "mimetype": "text/x-python",
   "name": "python",
   "nbconvert_exporter": "python",
   "pygments_lexer": "ipython3",
   "version": "3.7.3"
  }
 },
 "nbformat": 4,
 "nbformat_minor": 2
}
