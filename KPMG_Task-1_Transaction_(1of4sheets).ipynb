{
 "cells": [
  {
   "cell_type": "markdown",
   "metadata": {},
   "source": [
    "# Task-1: Data Quality Issues _ Transactions"
   ]
  },
  {
   "cell_type": "markdown",
   "metadata": {},
   "source": [
    "The client has provided us with four datasets.\n",
    "They are:\n",
    "1) Customer Demographic\n",
    "2) Transaction details\n",
    "3) Customer address\n",
    "4) New customer list"
   ]
  },
  {
   "cell_type": "code",
   "execution_count": 1,
   "metadata": {},
   "outputs": [],
   "source": [
    "#Import the required librariesabs\n",
    "import pandas as pd"
   ]
  },
  {
   "cell_type": "markdown",
   "metadata": {},
   "source": [
    "## Reading Excel file given by the client"
   ]
  },
  {
   "cell_type": "code",
   "execution_count": 2,
   "metadata": {},
   "outputs": [],
   "source": [
    "df=pd.read_csv(\"G:\\My Drive\\KPMG\\Task 1\\Transactions.csv\")"
   ]
  },
  {
   "cell_type": "markdown",
   "metadata": {},
   "source": [
    "Let us copy the same data frame (as below) so that changes to be made in future may not affect the Excel file"
   ]
  },
  {
   "cell_type": "code",
   "execution_count": 3,
   "metadata": {},
   "outputs": [],
   "source": [
    "df=df.copy()"
   ]
  },
  {
   "cell_type": "markdown",
   "metadata": {},
   "source": [
    "## Viewing the data frame"
   ]
  },
  {
   "cell_type": "code",
   "execution_count": 4,
   "metadata": {},
   "outputs": [
    {
     "data": {
      "text/html": [
       "<div>\n",
       "<style scoped>\n",
       "    .dataframe tbody tr th:only-of-type {\n",
       "        vertical-align: middle;\n",
       "    }\n",
       "\n",
       "    .dataframe tbody tr th {\n",
       "        vertical-align: top;\n",
       "    }\n",
       "\n",
       "    .dataframe thead th {\n",
       "        text-align: right;\n",
       "    }\n",
       "</style>\n",
       "<table border=\"1\" class=\"dataframe\">\n",
       "  <thead>\n",
       "    <tr style=\"text-align: right;\">\n",
       "      <th></th>\n",
       "      <th>transaction_id</th>\n",
       "      <th>product_id</th>\n",
       "      <th>customer_id</th>\n",
       "      <th>transaction_date</th>\n",
       "      <th>online_order</th>\n",
       "      <th>order_status</th>\n",
       "      <th>brand</th>\n",
       "      <th>product_line</th>\n",
       "      <th>product_class</th>\n",
       "      <th>product_size</th>\n",
       "      <th>list_price</th>\n",
       "      <th>standard_cost</th>\n",
       "      <th>product_first_sold_date</th>\n",
       "    </tr>\n",
       "  </thead>\n",
       "  <tbody>\n",
       "    <tr>\n",
       "      <th>0</th>\n",
       "      <td>8708</td>\n",
       "      <td>0</td>\n",
       "      <td>5034</td>\n",
       "      <td>7/10/2017</td>\n",
       "      <td>False</td>\n",
       "      <td>Approved</td>\n",
       "      <td>Solex</td>\n",
       "      <td>Road</td>\n",
       "      <td>medium</td>\n",
       "      <td>medium</td>\n",
       "      <td>416.98</td>\n",
       "      <td>312.7350159</td>\n",
       "      <td>2/8/2015</td>\n",
       "    </tr>\n",
       "    <tr>\n",
       "      <th>1</th>\n",
       "      <td>16701</td>\n",
       "      <td>0</td>\n",
       "      <td>5034</td>\n",
       "      <td>27-01-2017</td>\n",
       "      <td>False</td>\n",
       "      <td>Approved</td>\n",
       "      <td>Norco Bicycles</td>\n",
       "      <td>Standard</td>\n",
       "      <td>medium</td>\n",
       "      <td>medium</td>\n",
       "      <td>360.40</td>\n",
       "      <td>270.2999878</td>\n",
       "      <td>25-08-1997</td>\n",
       "    </tr>\n",
       "    <tr>\n",
       "      <th>2</th>\n",
       "      <td>17469</td>\n",
       "      <td>0</td>\n",
       "      <td>5034</td>\n",
       "      <td>3/1/2017</td>\n",
       "      <td>False</td>\n",
       "      <td>Approved</td>\n",
       "      <td>OHM Cycles</td>\n",
       "      <td>Road</td>\n",
       "      <td>medium</td>\n",
       "      <td>medium</td>\n",
       "      <td>742.54</td>\n",
       "      <td>667.4000244</td>\n",
       "      <td>2/10/1992</td>\n",
       "    </tr>\n",
       "    <tr>\n",
       "      <th>3</th>\n",
       "      <td>2463</td>\n",
       "      <td>2</td>\n",
       "      <td>3500</td>\n",
       "      <td>25-04-2017</td>\n",
       "      <td>False</td>\n",
       "      <td>Approved</td>\n",
       "      <td>Solex</td>\n",
       "      <td>Standard</td>\n",
       "      <td>medium</td>\n",
       "      <td>medium</td>\n",
       "      <td>71.49</td>\n",
       "      <td>$53.62</td>\n",
       "      <td>2/12/2012</td>\n",
       "    </tr>\n",
       "    <tr>\n",
       "      <th>4</th>\n",
       "      <td>6309</td>\n",
       "      <td>69</td>\n",
       "      <td>3500</td>\n",
       "      <td>9/1/2017</td>\n",
       "      <td>True</td>\n",
       "      <td>Approved</td>\n",
       "      <td>Giant Bicycles</td>\n",
       "      <td>Road</td>\n",
       "      <td>medium</td>\n",
       "      <td>medium</td>\n",
       "      <td>792.90</td>\n",
       "      <td>$594.68</td>\n",
       "      <td>2/10/1992</td>\n",
       "    </tr>\n",
       "  </tbody>\n",
       "</table>\n",
       "</div>"
      ],
      "text/plain": [
       "   transaction_id  product_id  customer_id transaction_date online_order  \\\n",
       "0            8708           0         5034        7/10/2017        False   \n",
       "1           16701           0         5034       27-01-2017        False   \n",
       "2           17469           0         5034         3/1/2017        False   \n",
       "3            2463           2         3500       25-04-2017        False   \n",
       "4            6309          69         3500         9/1/2017         True   \n",
       "\n",
       "  order_status           brand product_line product_class product_size  \\\n",
       "0     Approved           Solex         Road        medium       medium   \n",
       "1     Approved  Norco Bicycles     Standard        medium       medium   \n",
       "2     Approved      OHM Cycles         Road        medium       medium   \n",
       "3     Approved           Solex     Standard        medium       medium   \n",
       "4     Approved  Giant Bicycles         Road        medium       medium   \n",
       "\n",
       "   list_price standard_cost product_first_sold_date  \n",
       "0      416.98   312.7350159                2/8/2015  \n",
       "1      360.40   270.2999878              25-08-1997  \n",
       "2      742.54   667.4000244               2/10/1992  \n",
       "3       71.49       $53.62                2/12/2012  \n",
       "4      792.90      $594.68                2/10/1992  "
      ]
     },
     "execution_count": 4,
     "metadata": {},
     "output_type": "execute_result"
    }
   ],
   "source": [
    "df.head(5)"
   ]
  },
  {
   "cell_type": "markdown",
   "metadata": {},
   "source": [
    "## Exploring shape of the sheet "
   ]
  },
  {
   "cell_type": "code",
   "execution_count": 5,
   "metadata": {},
   "outputs": [
    {
     "data": {
      "text/plain": [
       "(20000, 13)"
      ]
     },
     "execution_count": 5,
     "metadata": {},
     "output_type": "execute_result"
    }
   ],
   "source": [
    "df.shape"
   ]
  },
  {
   "cell_type": "markdown",
   "metadata": {},
   "source": [
    "## Exploring columns of the sheets "
   ]
  },
  {
   "cell_type": "code",
   "execution_count": 6,
   "metadata": {},
   "outputs": [
    {
     "data": {
      "text/plain": [
       "Index(['transaction_id', 'product_id', 'customer_id', 'transaction_date',\n",
       "       'online_order', 'order_status', 'brand', 'product_line',\n",
       "       'product_class', 'product_size', 'list_price', 'standard_cost',\n",
       "       'product_first_sold_date'],\n",
       "      dtype='object')"
      ]
     },
     "execution_count": 6,
     "metadata": {},
     "output_type": "execute_result"
    }
   ],
   "source": [
    "df.columns"
   ]
  },
  {
   "cell_type": "markdown",
   "metadata": {},
   "source": [
    "## Checking Data Types of each attribute in each sheet"
   ]
  },
  {
   "cell_type": "code",
   "execution_count": 7,
   "metadata": {},
   "outputs": [
    {
     "data": {
      "text/plain": [
       "transaction_id               int64\n",
       "product_id                   int64\n",
       "customer_id                  int64\n",
       "transaction_date            object\n",
       "online_order                object\n",
       "order_status                object\n",
       "brand                       object\n",
       "product_line                object\n",
       "product_class               object\n",
       "product_size                object\n",
       "list_price                 float64\n",
       "standard_cost               object\n",
       "product_first_sold_date     object\n",
       "dtype: object"
      ]
     },
     "execution_count": 7,
     "metadata": {},
     "output_type": "execute_result"
    }
   ],
   "source": [
    "df.dtypes"
   ]
  },
  {
   "cell_type": "markdown",
   "metadata": {},
   "source": [
    "## Describe the data columnwise use \"df.describe()\""
   ]
  },
  {
   "cell_type": "markdown",
   "metadata": {},
   "source": [
    "## Checking for Null/missing values"
   ]
  },
  {
   "cell_type": "code",
   "execution_count": 8,
   "metadata": {},
   "outputs": [
    {
     "data": {
      "text/plain": [
       "transaction_id               0\n",
       "product_id                   0\n",
       "customer_id                  0\n",
       "transaction_date             0\n",
       "online_order               360\n",
       "order_status                 0\n",
       "brand                      197\n",
       "product_line               197\n",
       "product_class              197\n",
       "product_size               197\n",
       "list_price                   0\n",
       "standard_cost              197\n",
       "product_first_sold_date    197\n",
       "dtype: int64"
      ]
     },
     "execution_count": 8,
     "metadata": {},
     "output_type": "execute_result"
    }
   ],
   "source": [
    "df.isnull().sum()"
   ]
  },
  {
   "cell_type": "markdown",
   "metadata": {},
   "source": [
    "## Exploring columns "
   ]
  },
  {
   "cell_type": "code",
   "execution_count": 9,
   "metadata": {},
   "outputs": [
    {
     "data": {
      "text/plain": [
       "Standard    14176\n",
       "Road         3970\n",
       "Touring      1234\n",
       "Mountain      423\n",
       "Name: product_line, dtype: int64"
      ]
     },
     "execution_count": 9,
     "metadata": {},
     "output_type": "execute_result"
    }
   ],
   "source": [
    "df.iloc[:,7].value_counts()"
   ]
  },
  {
   "cell_type": "markdown",
   "metadata": {},
   "source": [
    "Here, in [], : before comma indicates the row index, here : means all rows. Similarly values after comma indicates the column index, here 7 means 8th column Because, the indices in python start with zero."
   ]
  },
  {
   "cell_type": "markdown",
   "metadata": {},
   "source": [
    "Below is the other way to explore the same column, i.e. Transactions.iloc[:,7] = product_line"
   ]
  },
  {
   "cell_type": "code",
   "execution_count": 10,
   "metadata": {},
   "outputs": [
    {
     "data": {
      "text/plain": [
       "Standard    14176\n",
       "Road         3970\n",
       "Touring      1234\n",
       "Mountain      423\n",
       "Name: product_line, dtype: int64"
      ]
     },
     "execution_count": 10,
     "metadata": {},
     "output_type": "execute_result"
    }
   ],
   "source": [
    "df['product_line'].value_counts()"
   ]
  },
  {
   "cell_type": "markdown",
   "metadata": {},
   "source": [
    "## Why to see value_counts seperately for each column?, Make a loop so that together we get the desired response for all columns.. "
   ]
  },
  {
   "cell_type": "code",
   "execution_count": 11,
   "metadata": {},
   "outputs": [
    {
     "data": {
      "text/plain": [
       "Index(['transaction_id', 'product_id', 'customer_id', 'transaction_date',\n",
       "       'online_order', 'order_status', 'brand', 'product_line',\n",
       "       'product_class', 'product_size', 'list_price', 'standard_cost',\n",
       "       'product_first_sold_date'],\n",
       "      dtype='object')"
      ]
     },
     "execution_count": 11,
     "metadata": {},
     "output_type": "execute_result"
    }
   ],
   "source": [
    "df.columns"
   ]
  },
  {
   "cell_type": "code",
   "execution_count": 12,
   "metadata": {},
   "outputs": [],
   "source": [
    "df_columns=['transaction_id', 'product_id', 'customer_id', 'transaction_date',\n",
    "       'online_order', 'order_status', 'brand', 'product_line',\n",
    "       'product_class', 'product_size', 'list_price', 'standard_cost',\n",
    "       'product_first_sold_date']"
   ]
  },
  {
   "cell_type": "code",
   "execution_count": 13,
   "metadata": {},
   "outputs": [
    {
     "name": "stdout",
     "output_type": "stream",
     "text": [
      "2047     1\n",
      "10912    1\n",
      "12947    1\n",
      "2708     1\n",
      "661      1\n",
      "6806     1\n",
      "4759     1\n",
      "19100    1\n",
      "17053    1\n",
      "8865     1\n",
      "8849     1\n",
      "15010    1\n",
      "12963    1\n",
      "2724     1\n",
      "677      1\n",
      "6822     1\n",
      "4775     1\n",
      "19116    1\n",
      "14994    1\n",
      "10896    1\n",
      "12787    1\n",
      "10880    1\n",
      "12915    1\n",
      "2676     1\n",
      "629      1\n",
      "6774     1\n",
      "4727     1\n",
      "19068    1\n",
      "17021    1\n",
      "8833     1\n",
      "        ..\n",
      "15693    1\n",
      "11599    1\n",
      "19747    1\n",
      "17746    1\n",
      "19795    1\n",
      "5464     1\n",
      "7513     1\n",
      "1370     1\n",
      "3419     1\n",
      "13660    1\n",
      "17730    1\n",
      "11583    1\n",
      "9534     1\n",
      "15677    1\n",
      "5416     1\n",
      "7465     1\n",
      "1322     1\n",
      "3371     1\n",
      "13612    1\n",
      "15661    1\n",
      "9518     1\n",
      "11567    1\n",
      "17714    1\n",
      "19763    1\n",
      "5432     1\n",
      "7481     1\n",
      "1338     1\n",
      "3387     1\n",
      "13628    1\n",
      "2049     1\n",
      "Name: transaction_id, Length: 20000, dtype: int64\n",
      "0      1378\n",
      "3       354\n",
      "1       311\n",
      "35      268\n",
      "38      267\n",
      "4       241\n",
      "2       240\n",
      "90      225\n",
      "12      224\n",
      "80      223\n",
      "5       222\n",
      "43      216\n",
      "69      215\n",
      "77      215\n",
      "27      215\n",
      "53      214\n",
      "45      213\n",
      "92      211\n",
      "36      211\n",
      "50      209\n",
      "64      208\n",
      "40      208\n",
      "79      207\n",
      "17      205\n",
      "21      204\n",
      "34      204\n",
      "49      204\n",
      "66      202\n",
      "59      201\n",
      "9       201\n",
      "       ... \n",
      "70      167\n",
      "25      164\n",
      "30      162\n",
      "48      162\n",
      "96      161\n",
      "83      159\n",
      "98      156\n",
      "76      155\n",
      "26      154\n",
      "37      153\n",
      "42      152\n",
      "39      152\n",
      "99      152\n",
      "78      151\n",
      "94      149\n",
      "65      148\n",
      "20      146\n",
      "68      146\n",
      "60      144\n",
      "51      143\n",
      "97      142\n",
      "24      141\n",
      "73      139\n",
      "44      138\n",
      "75      138\n",
      "71      137\n",
      "8       136\n",
      "16      136\n",
      "100     130\n",
      "47      121\n",
      "Name: product_id, Length: 101, dtype: int64\n",
      "2183    14\n",
      "1068    14\n",
      "2476    14\n",
      "2072    13\n",
      "1672    13\n",
      "1302    13\n",
      "3232    13\n",
      "2464    13\n",
      "637     13\n",
      "2912    13\n",
      "1946    13\n",
      "1140    13\n",
      "2755    13\n",
      "1129    13\n",
      "3048    13\n",
      "3326    13\n",
      "1913    13\n",
      "2548    13\n",
      "377     13\n",
      "1076    12\n",
      "2240    12\n",
      "177     12\n",
      "2826    12\n",
      "1103    12\n",
      "2659    12\n",
      "1482    12\n",
      "39      12\n",
      "2155    12\n",
      "3020    12\n",
      "255     12\n",
      "        ..\n",
      "3272     1\n",
      "161      1\n",
      "2291     1\n",
      "3279     1\n",
      "1248     1\n",
      "1921     1\n",
      "3235     1\n",
      "373      1\n",
      "2749     1\n",
      "872      1\n",
      "2876     1\n",
      "3392     1\n",
      "191      1\n",
      "2417     1\n",
      "898      1\n",
      "2525     1\n",
      "3292     1\n",
      "1325     1\n",
      "3161     1\n",
      "2477     1\n",
      "3428     1\n",
      "1448     1\n",
      "3179     1\n",
      "287      1\n",
      "1757     1\n",
      "2395     1\n",
      "1569     1\n",
      "1203     1\n",
      "2271     1\n",
      "1544     1\n",
      "Name: customer_id, Length: 3494, dtype: int64\n",
      "14-02-2017    82\n",
      "18-08-2017    82\n",
      "15-10-2017    76\n",
      "31-01-2017    73\n",
      "19-12-2017    71\n",
      "16-10-2017    70\n",
      "9/7/2017      70\n",
      "6/12/2017     69\n",
      "15-01-2017    69\n",
      "18-03-2017    69\n",
      "16-12-2017    68\n",
      "21-08-2017    68\n",
      "6/11/2017     68\n",
      "17-05-2017    68\n",
      "10/1/2017     67\n",
      "27-10-2017    67\n",
      "14-08-2017    67\n",
      "14-11-2017    67\n",
      "9/4/2017      67\n",
      "27-04-2017    67\n",
      "24-10-2017    66\n",
      "8/3/2017      66\n",
      "16-11-2017    66\n",
      "3/2/2017      66\n",
      "15-11-2017    66\n",
      "18-01-2017    66\n",
      "1/5/2017      66\n",
      "8/9/2017      65\n",
      "15-07-2017    65\n",
      "23-10-2017    65\n",
      "              ..\n",
      "14-04-2017    45\n",
      "26-03-2017    45\n",
      "26-11-2017    45\n",
      "7/6/2017      45\n",
      "3/9/2017      45\n",
      "1/7/2017      44\n",
      "6/6/2017      44\n",
      "28-01-2017    44\n",
      "26-10-2017    44\n",
      "3/4/2017      44\n",
      "7/3/2017      44\n",
      "8/12/2017     44\n",
      "23-04-2017    43\n",
      "6/3/2017      43\n",
      "27-03-2017    43\n",
      "29-01-2017    43\n",
      "27-05-2017    43\n",
      "1/9/2017      43\n",
      "4/3/2017      42\n",
      "28-06-2017    41\n",
      "24-11-2017    41\n",
      "14-06-2017    41\n",
      "16-05-2017    40\n",
      "31-03-2017    39\n",
      "29-08-2017    38\n",
      "12/1/2017     38\n",
      "7/12/2017     37\n",
      "29-03-2017    36\n",
      "25-09-2017    35\n",
      "19-10-2017    32\n",
      "Name: transaction_date, Length: 364, dtype: int64\n",
      "True     9829\n",
      "False    9811\n",
      "Name: online_order, dtype: int64\n",
      "Approved     19821\n",
      "Cancelled      179\n",
      "Name: order_status, dtype: int64\n",
      "Solex             4253\n",
      "Giant Bicycles    3312\n",
      "WeareA2B          3295\n",
      "OHM Cycles        3043\n",
      "Trek Bicycles     2990\n",
      "Norco Bicycles    2910\n",
      "Name: brand, dtype: int64\n",
      "Standard    14176\n",
      "Road         3970\n",
      "Touring      1234\n",
      "Mountain      423\n",
      "Name: product_line, dtype: int64\n",
      "medium    13826\n",
      "high       3013\n",
      "low        2964\n",
      "Name: product_class, dtype: int64\n",
      "medium    12990\n",
      "large      3976\n",
      "small      2837\n",
      "Name: product_size, dtype: int64\n",
      "2091.47    465\n",
      "1403.50    396\n",
      "71.49      274\n",
      "1231.15    235\n",
      "1890.39    233\n",
      "1129.13    232\n",
      "1073.07    229\n",
      "1894.19    228\n",
      "945.04     226\n",
      "574.64     223\n",
      "363.01     221\n",
      "1240.31    219\n",
      "1793.43    217\n",
      "533.51     217\n",
      "1577.53    214\n",
      "1151.96    214\n",
      "544.05     213\n",
      "1762.96    211\n",
      "230.91     211\n",
      "958.74     211\n",
      "360.40     210\n",
      "1415.01    209\n",
      "795.34     208\n",
      "2083.94    208\n",
      "1469.44    208\n",
      "792.90     207\n",
      "1555.58    204\n",
      "499.53     203\n",
      "1812.75    202\n",
      "980.37     201\n",
      "          ... \n",
      "437.51       1\n",
      "2028.26      1\n",
      "1761.75      1\n",
      "922.15       1\n",
      "1193.44      1\n",
      "126.36       1\n",
      "1617.32      1\n",
      "840.02       1\n",
      "1942.61      1\n",
      "317.30       1\n",
      "1678.71      1\n",
      "1148.41      1\n",
      "494.96       1\n",
      "710.55       1\n",
      "1719.95      1\n",
      "330.36       1\n",
      "1216.40      1\n",
      "74.89        1\n",
      "850.00       1\n",
      "1150.59      1\n",
      "724.37       1\n",
      "1095.65      1\n",
      "1285.47      1\n",
      "643.95       1\n",
      "1957.87      1\n",
      "26.15        1\n",
      "1199.26      1\n",
      "1535.84      1\n",
      "541.44       1\n",
      "1142.89      1\n",
      "Name: list_price, Length: 296, dtype: int64\n",
      "$388.92        465\n",
      "$954.82        396\n",
      "$53.62         274\n",
      "$161.60        235\n",
      "$260.14        233\n",
      "$677.48        232\n",
      "$933.84        229\n",
      "$598.76        228\n",
      "$507.58        226\n",
      "$459.71        223\n",
      "$290.41        221\n",
      "$795.10        219\n",
      "$248.82        217\n",
      "$400.13        217\n",
      "$826.51        214\n",
      "$649.49        214\n",
      "$376.84        213\n",
      "$173.18        211\n",
      "$950.52        211\n",
      "$748.90        211\n",
      "$270.30        209\n",
      "$1,259.36      209\n",
      "$596.55        208\n",
      "$101.58        208\n",
      "$675.03        208\n",
      "$594.68        207\n",
      "$818.01        204\n",
      "$582.48        202\n",
      "$388.72        202\n",
      "$234.43        201\n",
      "              ... \n",
      "$1,203.40      184\n",
      "$297.43        184\n",
      "$589.27        183\n",
      "$820.78        183\n",
      "$1,479.11      183\n",
      "$431.45        183\n",
      "$75.26         180\n",
      "$137.90        180\n",
      "$707.40        180\n",
      "$215.14        180\n",
      "$863.95        179\n",
      "$205.36        179\n",
      "$125.07        178\n",
      "$528.43        178\n",
      "$764.96        178\n",
      "$829.65        176\n",
      "$513.85        174\n",
      "$230.09        172\n",
      "$1,531.42      169\n",
      "$312.74        168\n",
      "$56.93         163\n",
      "$1,043.77      157\n",
      "$215.03        141\n",
      "$770.89        126\n",
      "$151.96        124\n",
      "$206.35        114\n",
      "667.4000244      1\n",
      "                 1\n",
      "312.7350159      1\n",
      "270.2999878      1\n",
      "Name: standard_cost, Length: 104, dtype: int64\n",
      "2/10/1992     234\n",
      "4/6/2012      229\n",
      "21-07-2003    227\n",
      "8/3/2009      222\n",
      "17-08-2004    220\n",
      "10/5/2005     219\n",
      "7/6/2010      218\n",
      "9/7/2016      216\n",
      "16-01-2004    215\n",
      "10/4/2012     215\n",
      "19-03-2008    213\n",
      "25-08-1997    213\n",
      "22-10-2005    213\n",
      "9/6/2013      213\n",
      "21-01-1991    213\n",
      "4/8/2007      212\n",
      "3/3/2014      212\n",
      "5/11/2010     211\n",
      "11/10/1992    211\n",
      "14-11-2016    211\n",
      "7/8/2004      210\n",
      "24-10-1995    209\n",
      "11/12/2007    208\n",
      "16-03-2011    207\n",
      "15-07-1993    207\n",
      "9/9/2003      207\n",
      "6/12/2016     207\n",
      "29-03-2016    206\n",
      "25-01-1997    206\n",
      "10/8/1994     206\n",
      "             ... \n",
      "5/8/2003      191\n",
      "18-10-2015    191\n",
      "3/11/2000     189\n",
      "10/9/2003     189\n",
      "22-03-2002    189\n",
      "18-12-2004    189\n",
      "5/4/1996      189\n",
      "25-07-2004    189\n",
      "17-06-2015    187\n",
      "31-08-2002    186\n",
      "16-02-2003    186\n",
      "12/4/1993     186\n",
      "23-06-1993    184\n",
      "5/5/2010      184\n",
      "16-04-2011    182\n",
      "22-11-2016    182\n",
      "4/10/1997     181\n",
      "5/8/1991      181\n",
      "22-05-2000    181\n",
      "20-04-1993    179\n",
      "5/1/2003      179\n",
      "10/11/1991    179\n",
      "21-05-2015    177\n",
      "9/5/2011      176\n",
      "1/10/2006     171\n",
      "28-07-2014    169\n",
      "4/2/2016      168\n",
      "10/10/2014    166\n",
      "7/2/2003      163\n",
      "9/9/1994      162\n",
      "Name: product_first_sold_date, Length: 100, dtype: int64\n"
     ]
    }
   ],
   "source": [
    "for i in df_columns:\n",
    "    print(df[i].value_counts())"
   ]
  },
  {
   "cell_type": "code",
   "execution_count": 14,
   "metadata": {},
   "outputs": [],
   "source": [
    "df[\"product_first_sold_date\"]= pd.to_datetime(df[\"product_first_sold_date\"])"
   ]
  },
  {
   "cell_type": "code",
   "execution_count": 15,
   "metadata": {},
   "outputs": [
    {
     "data": {
      "text/plain": [
       "0       2015-02-08\n",
       "1       1997-08-25\n",
       "2       1992-02-10\n",
       "3       2012-02-12\n",
       "4       1992-02-10\n",
       "5       2000-05-22\n",
       "6       1992-11-10\n",
       "7       1993-07-15\n",
       "8       2006-02-02\n",
       "9       2010-07-06\n",
       "10      2003-02-16\n",
       "11      1998-12-17\n",
       "12      2012-02-12\n",
       "13      1993-06-23\n",
       "14      2006-02-02\n",
       "15      2006-05-22\n",
       "16      2003-02-16\n",
       "17      1999-07-26\n",
       "18      2013-09-16\n",
       "19      2004-08-17\n",
       "20      1994-10-08\n",
       "21      2004-01-16\n",
       "22      2016-11-14\n",
       "23      1996-05-04\n",
       "24      2004-07-25\n",
       "25      2014-10-10\n",
       "26      1994-12-07\n",
       "27      2003-07-02\n",
       "28      2010-05-05\n",
       "29      1997-08-25\n",
       "           ...    \n",
       "19970   2008-03-19\n",
       "19971   1993-02-10\n",
       "19972   2003-05-01\n",
       "19973   2008-03-19\n",
       "19974   1991-06-05\n",
       "19975   2009-08-03\n",
       "19976   2003-10-09\n",
       "19977   1993-06-23\n",
       "19978   2012-10-04\n",
       "19979   2012-10-04\n",
       "19980   2014-03-03\n",
       "19981   2000-03-11\n",
       "19982   2010-05-05\n",
       "19983   2002-08-31\n",
       "19984   2010-05-05\n",
       "19985   1998-12-16\n",
       "19986   2011-08-29\n",
       "19987   2004-07-08\n",
       "19988   2002-03-22\n",
       "19989   2005-10-05\n",
       "19990   2008-03-19\n",
       "19991   2003-07-21\n",
       "19992   2003-09-09\n",
       "19993   2005-09-08\n",
       "19994   1991-10-11\n",
       "19995   1991-05-08\n",
       "19996   2002-03-22\n",
       "19997   2011-03-16\n",
       "19998   2003-05-08\n",
       "19999   1996-09-11\n",
       "Name: product_first_sold_date, Length: 20000, dtype: datetime64[ns]"
      ]
     },
     "execution_count": 15,
     "metadata": {},
     "output_type": "execute_result"
    }
   ],
   "source": [
    "df[\"product_first_sold_date\"]"
   ]
  },
  {
   "cell_type": "markdown",
   "metadata": {},
   "source": [
    "## Removing dollar sign from the column regarding cost "
   ]
  },
  {
   "cell_type": "code",
   "execution_count": 16,
   "metadata": {},
   "outputs": [
    {
     "data": {
      "text/plain": [
       "0    312.7350159\n",
       "1    270.2999878\n",
       "2    667.4000244\n",
       "3         53.62 \n",
       "4        594.68 \n",
       "Name: standard_cost, dtype: object"
      ]
     },
     "execution_count": 16,
     "metadata": {},
     "output_type": "execute_result"
    }
   ],
   "source": [
    "df['standard_cost']=df['standard_cost'].str.replace('$','')\n",
    "df['standard_cost'].head()"
   ]
  },
  {
   "cell_type": "code",
   "execution_count": 17,
   "metadata": {},
   "outputs": [
    {
     "data": {
      "text/plain": [
       "dtype('O')"
      ]
     },
     "execution_count": 17,
     "metadata": {},
     "output_type": "execute_result"
    }
   ],
   "source": [
    "df['standard_cost'].dtype"
   ]
  },
  {
   "cell_type": "markdown",
   "metadata": {},
   "source": [
    "Though dollar sign is successfully removed, data type is not float. Need to convert it into float. "
   ]
  },
  {
   "cell_type": "code",
   "execution_count": 18,
   "metadata": {},
   "outputs": [
    {
     "ename": "ValueError",
     "evalue": "could not convert string to float: '1,167.18 '",
     "output_type": "error",
     "traceback": [
      "\u001b[1;31m---------------------------------------------------------------------------\u001b[0m",
      "\u001b[1;31mValueError\u001b[0m                                Traceback (most recent call last)",
      "\u001b[1;32m<ipython-input-18-d91372c00af5>\u001b[0m in \u001b[0;36m<module>\u001b[1;34m\u001b[0m\n\u001b[1;32m----> 1\u001b[1;33m \u001b[0mdf\u001b[0m\u001b[1;33m[\u001b[0m\u001b[1;34m'standard_cost'\u001b[0m\u001b[1;33m]\u001b[0m\u001b[1;33m=\u001b[0m\u001b[0mdf\u001b[0m\u001b[1;33m[\u001b[0m\u001b[1;34m'standard_cost'\u001b[0m\u001b[1;33m]\u001b[0m\u001b[1;33m.\u001b[0m\u001b[0mastype\u001b[0m\u001b[1;33m(\u001b[0m\u001b[0mfloat\u001b[0m\u001b[1;33m)\u001b[0m\u001b[1;33m\u001b[0m\u001b[1;33m\u001b[0m\u001b[0m\n\u001b[0m\u001b[0;32m      2\u001b[0m \u001b[0mdf\u001b[0m\u001b[1;33m[\u001b[0m\u001b[1;34m'standard_cost'\u001b[0m\u001b[1;33m]\u001b[0m\u001b[1;33m\u001b[0m\u001b[1;33m\u001b[0m\u001b[0m\n",
      "\u001b[1;32m~\\AppData\\Local\\Continuum\\anaconda3\\lib\\site-packages\\pandas\\core\\generic.py\u001b[0m in \u001b[0;36mastype\u001b[1;34m(self, dtype, copy, errors, **kwargs)\u001b[0m\n\u001b[0;32m   5689\u001b[0m             \u001b[1;31m# else, only a single dtype is given\u001b[0m\u001b[1;33m\u001b[0m\u001b[1;33m\u001b[0m\u001b[1;33m\u001b[0m\u001b[0m\n\u001b[0;32m   5690\u001b[0m             new_data = self._data.astype(dtype=dtype, copy=copy, errors=errors,\n\u001b[1;32m-> 5691\u001b[1;33m                                          **kwargs)\n\u001b[0m\u001b[0;32m   5692\u001b[0m             \u001b[1;32mreturn\u001b[0m \u001b[0mself\u001b[0m\u001b[1;33m.\u001b[0m\u001b[0m_constructor\u001b[0m\u001b[1;33m(\u001b[0m\u001b[0mnew_data\u001b[0m\u001b[1;33m)\u001b[0m\u001b[1;33m.\u001b[0m\u001b[0m__finalize__\u001b[0m\u001b[1;33m(\u001b[0m\u001b[0mself\u001b[0m\u001b[1;33m)\u001b[0m\u001b[1;33m\u001b[0m\u001b[1;33m\u001b[0m\u001b[0m\n\u001b[0;32m   5693\u001b[0m \u001b[1;33m\u001b[0m\u001b[0m\n",
      "\u001b[1;32m~\\AppData\\Local\\Continuum\\anaconda3\\lib\\site-packages\\pandas\\core\\internals\\managers.py\u001b[0m in \u001b[0;36mastype\u001b[1;34m(self, dtype, **kwargs)\u001b[0m\n\u001b[0;32m    529\u001b[0m \u001b[1;33m\u001b[0m\u001b[0m\n\u001b[0;32m    530\u001b[0m     \u001b[1;32mdef\u001b[0m \u001b[0mastype\u001b[0m\u001b[1;33m(\u001b[0m\u001b[0mself\u001b[0m\u001b[1;33m,\u001b[0m \u001b[0mdtype\u001b[0m\u001b[1;33m,\u001b[0m \u001b[1;33m**\u001b[0m\u001b[0mkwargs\u001b[0m\u001b[1;33m)\u001b[0m\u001b[1;33m:\u001b[0m\u001b[1;33m\u001b[0m\u001b[1;33m\u001b[0m\u001b[0m\n\u001b[1;32m--> 531\u001b[1;33m         \u001b[1;32mreturn\u001b[0m \u001b[0mself\u001b[0m\u001b[1;33m.\u001b[0m\u001b[0mapply\u001b[0m\u001b[1;33m(\u001b[0m\u001b[1;34m'astype'\u001b[0m\u001b[1;33m,\u001b[0m \u001b[0mdtype\u001b[0m\u001b[1;33m=\u001b[0m\u001b[0mdtype\u001b[0m\u001b[1;33m,\u001b[0m \u001b[1;33m**\u001b[0m\u001b[0mkwargs\u001b[0m\u001b[1;33m)\u001b[0m\u001b[1;33m\u001b[0m\u001b[1;33m\u001b[0m\u001b[0m\n\u001b[0m\u001b[0;32m    532\u001b[0m \u001b[1;33m\u001b[0m\u001b[0m\n\u001b[0;32m    533\u001b[0m     \u001b[1;32mdef\u001b[0m \u001b[0mconvert\u001b[0m\u001b[1;33m(\u001b[0m\u001b[0mself\u001b[0m\u001b[1;33m,\u001b[0m \u001b[1;33m**\u001b[0m\u001b[0mkwargs\u001b[0m\u001b[1;33m)\u001b[0m\u001b[1;33m:\u001b[0m\u001b[1;33m\u001b[0m\u001b[1;33m\u001b[0m\u001b[0m\n",
      "\u001b[1;32m~\\AppData\\Local\\Continuum\\anaconda3\\lib\\site-packages\\pandas\\core\\internals\\managers.py\u001b[0m in \u001b[0;36mapply\u001b[1;34m(self, f, axes, filter, do_integrity_check, consolidate, **kwargs)\u001b[0m\n\u001b[0;32m    393\u001b[0m                                             copy=align_copy)\n\u001b[0;32m    394\u001b[0m \u001b[1;33m\u001b[0m\u001b[0m\n\u001b[1;32m--> 395\u001b[1;33m             \u001b[0mapplied\u001b[0m \u001b[1;33m=\u001b[0m \u001b[0mgetattr\u001b[0m\u001b[1;33m(\u001b[0m\u001b[0mb\u001b[0m\u001b[1;33m,\u001b[0m \u001b[0mf\u001b[0m\u001b[1;33m)\u001b[0m\u001b[1;33m(\u001b[0m\u001b[1;33m**\u001b[0m\u001b[0mkwargs\u001b[0m\u001b[1;33m)\u001b[0m\u001b[1;33m\u001b[0m\u001b[1;33m\u001b[0m\u001b[0m\n\u001b[0m\u001b[0;32m    396\u001b[0m             \u001b[0mresult_blocks\u001b[0m \u001b[1;33m=\u001b[0m \u001b[0m_extend_blocks\u001b[0m\u001b[1;33m(\u001b[0m\u001b[0mapplied\u001b[0m\u001b[1;33m,\u001b[0m \u001b[0mresult_blocks\u001b[0m\u001b[1;33m)\u001b[0m\u001b[1;33m\u001b[0m\u001b[1;33m\u001b[0m\u001b[0m\n\u001b[0;32m    397\u001b[0m \u001b[1;33m\u001b[0m\u001b[0m\n",
      "\u001b[1;32m~\\AppData\\Local\\Continuum\\anaconda3\\lib\\site-packages\\pandas\\core\\internals\\blocks.py\u001b[0m in \u001b[0;36mastype\u001b[1;34m(self, dtype, copy, errors, values, **kwargs)\u001b[0m\n\u001b[0;32m    532\u001b[0m     \u001b[1;32mdef\u001b[0m \u001b[0mastype\u001b[0m\u001b[1;33m(\u001b[0m\u001b[0mself\u001b[0m\u001b[1;33m,\u001b[0m \u001b[0mdtype\u001b[0m\u001b[1;33m,\u001b[0m \u001b[0mcopy\u001b[0m\u001b[1;33m=\u001b[0m\u001b[1;32mFalse\u001b[0m\u001b[1;33m,\u001b[0m \u001b[0merrors\u001b[0m\u001b[1;33m=\u001b[0m\u001b[1;34m'raise'\u001b[0m\u001b[1;33m,\u001b[0m \u001b[0mvalues\u001b[0m\u001b[1;33m=\u001b[0m\u001b[1;32mNone\u001b[0m\u001b[1;33m,\u001b[0m \u001b[1;33m**\u001b[0m\u001b[0mkwargs\u001b[0m\u001b[1;33m)\u001b[0m\u001b[1;33m:\u001b[0m\u001b[1;33m\u001b[0m\u001b[1;33m\u001b[0m\u001b[0m\n\u001b[0;32m    533\u001b[0m         return self._astype(dtype, copy=copy, errors=errors, values=values,\n\u001b[1;32m--> 534\u001b[1;33m                             **kwargs)\n\u001b[0m\u001b[0;32m    535\u001b[0m \u001b[1;33m\u001b[0m\u001b[0m\n\u001b[0;32m    536\u001b[0m     def _astype(self, dtype, copy=False, errors='raise', values=None,\n",
      "\u001b[1;32m~\\AppData\\Local\\Continuum\\anaconda3\\lib\\site-packages\\pandas\\core\\internals\\blocks.py\u001b[0m in \u001b[0;36m_astype\u001b[1;34m(self, dtype, copy, errors, values, **kwargs)\u001b[0m\n\u001b[0;32m    631\u001b[0m \u001b[1;33m\u001b[0m\u001b[0m\n\u001b[0;32m    632\u001b[0m                     \u001b[1;31m# _astype_nansafe works fine with 1-d only\u001b[0m\u001b[1;33m\u001b[0m\u001b[1;33m\u001b[0m\u001b[1;33m\u001b[0m\u001b[0m\n\u001b[1;32m--> 633\u001b[1;33m                     \u001b[0mvalues\u001b[0m \u001b[1;33m=\u001b[0m \u001b[0mastype_nansafe\u001b[0m\u001b[1;33m(\u001b[0m\u001b[0mvalues\u001b[0m\u001b[1;33m.\u001b[0m\u001b[0mravel\u001b[0m\u001b[1;33m(\u001b[0m\u001b[1;33m)\u001b[0m\u001b[1;33m,\u001b[0m \u001b[0mdtype\u001b[0m\u001b[1;33m,\u001b[0m \u001b[0mcopy\u001b[0m\u001b[1;33m=\u001b[0m\u001b[1;32mTrue\u001b[0m\u001b[1;33m)\u001b[0m\u001b[1;33m\u001b[0m\u001b[1;33m\u001b[0m\u001b[0m\n\u001b[0m\u001b[0;32m    634\u001b[0m \u001b[1;33m\u001b[0m\u001b[0m\n\u001b[0;32m    635\u001b[0m                 \u001b[1;31m# TODO(extension)\u001b[0m\u001b[1;33m\u001b[0m\u001b[1;33m\u001b[0m\u001b[1;33m\u001b[0m\u001b[0m\n",
      "\u001b[1;32m~\\AppData\\Local\\Continuum\\anaconda3\\lib\\site-packages\\pandas\\core\\dtypes\\cast.py\u001b[0m in \u001b[0;36mastype_nansafe\u001b[1;34m(arr, dtype, copy, skipna)\u001b[0m\n\u001b[0;32m    700\u001b[0m     \u001b[1;32mif\u001b[0m \u001b[0mcopy\u001b[0m \u001b[1;32mor\u001b[0m \u001b[0mis_object_dtype\u001b[0m\u001b[1;33m(\u001b[0m\u001b[0marr\u001b[0m\u001b[1;33m)\u001b[0m \u001b[1;32mor\u001b[0m \u001b[0mis_object_dtype\u001b[0m\u001b[1;33m(\u001b[0m\u001b[0mdtype\u001b[0m\u001b[1;33m)\u001b[0m\u001b[1;33m:\u001b[0m\u001b[1;33m\u001b[0m\u001b[1;33m\u001b[0m\u001b[0m\n\u001b[0;32m    701\u001b[0m         \u001b[1;31m# Explicit copy, or required since NumPy can't view from / to object.\u001b[0m\u001b[1;33m\u001b[0m\u001b[1;33m\u001b[0m\u001b[1;33m\u001b[0m\u001b[0m\n\u001b[1;32m--> 702\u001b[1;33m         \u001b[1;32mreturn\u001b[0m \u001b[0marr\u001b[0m\u001b[1;33m.\u001b[0m\u001b[0mastype\u001b[0m\u001b[1;33m(\u001b[0m\u001b[0mdtype\u001b[0m\u001b[1;33m,\u001b[0m \u001b[0mcopy\u001b[0m\u001b[1;33m=\u001b[0m\u001b[1;32mTrue\u001b[0m\u001b[1;33m)\u001b[0m\u001b[1;33m\u001b[0m\u001b[1;33m\u001b[0m\u001b[0m\n\u001b[0m\u001b[0;32m    703\u001b[0m \u001b[1;33m\u001b[0m\u001b[0m\n\u001b[0;32m    704\u001b[0m     \u001b[1;32mreturn\u001b[0m \u001b[0marr\u001b[0m\u001b[1;33m.\u001b[0m\u001b[0mview\u001b[0m\u001b[1;33m(\u001b[0m\u001b[0mdtype\u001b[0m\u001b[1;33m)\u001b[0m\u001b[1;33m\u001b[0m\u001b[1;33m\u001b[0m\u001b[0m\n",
      "\u001b[1;31mValueError\u001b[0m: could not convert string to float: '1,167.18 '"
     ]
    }
   ],
   "source": [
    "df['standard_cost']=df['standard_cost'].astype(float)\n",
    "df['standard_cost']"
   ]
  },
  {
   "cell_type": "markdown",
   "metadata": {},
   "source": [
    "Data could not be converted to float.. because of \"ValueError: could not convert string to float: '1,167.18'\"\n",
    "So here, ',' need to be removed."
   ]
  },
  {
   "cell_type": "code",
   "execution_count": 19,
   "metadata": {},
   "outputs": [
    {
     "data": {
      "text/plain": [
       "0    312.7350159\n",
       "1    270.2999878\n",
       "2    667.4000244\n",
       "3         53.62 \n",
       "4        594.68 \n",
       "Name: standard_cost, dtype: object"
      ]
     },
     "execution_count": 19,
     "metadata": {},
     "output_type": "execute_result"
    }
   ],
   "source": [
    "df['standard_cost']=df['standard_cost'].str.replace(',','')\n",
    "df['standard_cost'].head()"
   ]
  },
  {
   "cell_type": "markdown",
   "metadata": {},
   "source": [
    "Good. now let us try toconvers it to float type."
   ]
  },
  {
   "cell_type": "code",
   "execution_count": 20,
   "metadata": {},
   "outputs": [],
   "source": [
    "#df['standard_cost'].astype(float)"
   ]
  },
  {
   "cell_type": "markdown",
   "metadata": {},
   "source": [
    "## Determining percetage of  missing values in each column."
   ]
  },
  {
   "cell_type": "code",
   "execution_count": 21,
   "metadata": {},
   "outputs": [
    {
     "data": {
      "text/plain": [
       "transaction_id               0\n",
       "product_id                   0\n",
       "customer_id                  0\n",
       "transaction_date             0\n",
       "online_order               360\n",
       "order_status                 0\n",
       "brand                      197\n",
       "product_line               197\n",
       "product_class              197\n",
       "product_size               197\n",
       "list_price                   0\n",
       "standard_cost              197\n",
       "product_first_sold_date    197\n",
       "dtype: int64"
      ]
     },
     "execution_count": 21,
     "metadata": {},
     "output_type": "execute_result"
    }
   ],
   "source": [
    "missing_count=df.isnull().sum()\n",
    "missing_count"
   ]
  },
  {
   "cell_type": "code",
   "execution_count": 22,
   "metadata": {},
   "outputs": [
    {
     "data": {
      "text/plain": [
       "20000"
      ]
     },
     "execution_count": 22,
     "metadata": {},
     "output_type": "execute_result"
    }
   ],
   "source": [
    "total=len(df)\n",
    "total"
   ]
  },
  {
   "cell_type": "code",
   "execution_count": 23,
   "metadata": {},
   "outputs": [
    {
     "data": {
      "text/plain": [
       "transaction_id             0.000\n",
       "product_id                 0.000\n",
       "customer_id                0.000\n",
       "transaction_date           0.000\n",
       "online_order               1.800\n",
       "order_status               0.000\n",
       "brand                      0.985\n",
       "product_line               0.985\n",
       "product_class              0.985\n",
       "product_size               0.985\n",
       "list_price                 0.000\n",
       "standard_cost              0.985\n",
       "product_first_sold_date    0.985\n",
       "dtype: float64"
      ]
     },
     "execution_count": 23,
     "metadata": {},
     "output_type": "execute_result"
    }
   ],
   "source": [
    "percentageMissing=missing_count*100/total\n",
    "percentageMissing"
   ]
  },
  {
   "cell_type": "code",
   "execution_count": 24,
   "metadata": {},
   "outputs": [
    {
     "data": {
      "text/html": [
       "<div>\n",
       "<style scoped>\n",
       "    .dataframe tbody tr th:only-of-type {\n",
       "        vertical-align: middle;\n",
       "    }\n",
       "\n",
       "    .dataframe tbody tr th {\n",
       "        vertical-align: top;\n",
       "    }\n",
       "\n",
       "    .dataframe thead th {\n",
       "        text-align: right;\n",
       "    }\n",
       "</style>\n",
       "<table border=\"1\" class=\"dataframe\">\n",
       "  <thead>\n",
       "    <tr style=\"text-align: right;\">\n",
       "      <th></th>\n",
       "      <th>Heading</th>\n",
       "      <th>total_missing</th>\n",
       "      <th>Percentage_missing</th>\n",
       "    </tr>\n",
       "  </thead>\n",
       "  <tbody>\n",
       "    <tr>\n",
       "      <th>online_order</th>\n",
       "      <td>online_order</td>\n",
       "      <td>360</td>\n",
       "      <td>1.800</td>\n",
       "    </tr>\n",
       "    <tr>\n",
       "      <th>brand</th>\n",
       "      <td>brand</td>\n",
       "      <td>197</td>\n",
       "      <td>0.985</td>\n",
       "    </tr>\n",
       "    <tr>\n",
       "      <th>product_line</th>\n",
       "      <td>product_line</td>\n",
       "      <td>197</td>\n",
       "      <td>0.985</td>\n",
       "    </tr>\n",
       "    <tr>\n",
       "      <th>product_class</th>\n",
       "      <td>product_class</td>\n",
       "      <td>197</td>\n",
       "      <td>0.985</td>\n",
       "    </tr>\n",
       "    <tr>\n",
       "      <th>product_size</th>\n",
       "      <td>product_size</td>\n",
       "      <td>197</td>\n",
       "      <td>0.985</td>\n",
       "    </tr>\n",
       "    <tr>\n",
       "      <th>standard_cost</th>\n",
       "      <td>standard_cost</td>\n",
       "      <td>197</td>\n",
       "      <td>0.985</td>\n",
       "    </tr>\n",
       "    <tr>\n",
       "      <th>product_first_sold_date</th>\n",
       "      <td>product_first_sold_date</td>\n",
       "      <td>197</td>\n",
       "      <td>0.985</td>\n",
       "    </tr>\n",
       "  </tbody>\n",
       "</table>\n",
       "</div>"
      ],
      "text/plain": [
       "                                         Heading  total_missing  \\\n",
       "online_order                        online_order            360   \n",
       "brand                                      brand            197   \n",
       "product_line                        product_line            197   \n",
       "product_class                      product_class            197   \n",
       "product_size                        product_size            197   \n",
       "standard_cost                      standard_cost            197   \n",
       "product_first_sold_date  product_first_sold_date            197   \n",
       "\n",
       "                         Percentage_missing  \n",
       "online_order                          1.800  \n",
       "brand                                 0.985  \n",
       "product_line                          0.985  \n",
       "product_class                         0.985  \n",
       "product_size                          0.985  \n",
       "standard_cost                         0.985  \n",
       "product_first_sold_date               0.985  "
      ]
     },
     "execution_count": 24,
     "metadata": {},
     "output_type": "execute_result"
    }
   ],
   "source": [
    "missing_data=pd. DataFrame({'Heading': df.columns, 'total_missing': missing_count,'Percentage_missing': percentageMissing})\n",
    "missing_data.sort_values('total_missing', ascending=False)\n",
    "missing_data=missing_data.loc[missing_data['total_missing'] > 0]\n",
    "missing_data"
   ]
  },
  {
   "cell_type": "markdown",
   "metadata": {},
   "source": [
    "## Deteriming if duplicate value is there in the data frame"
   ]
  },
  {
   "cell_type": "code",
   "execution_count": 25,
   "metadata": {},
   "outputs": [
    {
     "data": {
      "text/html": [
       "<div>\n",
       "<style scoped>\n",
       "    .dataframe tbody tr th:only-of-type {\n",
       "        vertical-align: middle;\n",
       "    }\n",
       "\n",
       "    .dataframe tbody tr th {\n",
       "        vertical-align: top;\n",
       "    }\n",
       "\n",
       "    .dataframe thead th {\n",
       "        text-align: right;\n",
       "    }\n",
       "</style>\n",
       "<table border=\"1\" class=\"dataframe\">\n",
       "  <thead>\n",
       "    <tr style=\"text-align: right;\">\n",
       "      <th></th>\n",
       "      <th>transaction_id</th>\n",
       "      <th>product_id</th>\n",
       "      <th>customer_id</th>\n",
       "      <th>transaction_date</th>\n",
       "      <th>online_order</th>\n",
       "      <th>order_status</th>\n",
       "      <th>brand</th>\n",
       "      <th>product_line</th>\n",
       "      <th>product_class</th>\n",
       "      <th>product_size</th>\n",
       "      <th>list_price</th>\n",
       "      <th>standard_cost</th>\n",
       "      <th>product_first_sold_date</th>\n",
       "    </tr>\n",
       "  </thead>\n",
       "  <tbody>\n",
       "  </tbody>\n",
       "</table>\n",
       "</div>"
      ],
      "text/plain": [
       "Empty DataFrame\n",
       "Columns: [transaction_id, product_id, customer_id, transaction_date, online_order, order_status, brand, product_line, product_class, product_size, list_price, standard_cost, product_first_sold_date]\n",
       "Index: []"
      ]
     },
     "execution_count": 25,
     "metadata": {},
     "output_type": "execute_result"
    }
   ],
   "source": [
    "duplicate=df[df.duplicated()]\n",
    "duplicate"
   ]
  },
  {
   "cell_type": "code",
   "execution_count": 26,
   "metadata": {},
   "outputs": [
    {
     "data": {
      "text/plain": [
       "0"
      ]
     },
     "execution_count": 26,
     "metadata": {},
     "output_type": "execute_result"
    }
   ],
   "source": [
    "len(duplicate)"
   ]
  },
  {
   "cell_type": "markdown",
   "metadata": {},
   "source": [
    "## Viewing categorical data"
   ]
  },
  {
   "cell_type": "code",
   "execution_count": 27,
   "metadata": {},
   "outputs": [
    {
     "data": {
      "text/plain": [
       "True     9829\n",
       "False    9811\n",
       "Name: online_order, dtype: int64"
      ]
     },
     "execution_count": 27,
     "metadata": {},
     "output_type": "execute_result"
    }
   ],
   "source": [
    "df['online_order'].value_counts()"
   ]
  },
  {
   "cell_type": "code",
   "execution_count": 28,
   "metadata": {},
   "outputs": [
    {
     "data": {
      "text/plain": [
       "Approved     19821\n",
       "Cancelled      179\n",
       "Name: order_status, dtype: int64"
      ]
     },
     "execution_count": 28,
     "metadata": {},
     "output_type": "execute_result"
    }
   ],
   "source": [
    "df['order_status'].value_counts()"
   ]
  },
  {
   "cell_type": "code",
   "execution_count": 29,
   "metadata": {},
   "outputs": [
    {
     "data": {
      "text/plain": [
       "Solex             4253\n",
       "Giant Bicycles    3312\n",
       "WeareA2B          3295\n",
       "OHM Cycles        3043\n",
       "Trek Bicycles     2990\n",
       "Norco Bicycles    2910\n",
       "Name: brand, dtype: int64"
      ]
     },
     "execution_count": 29,
     "metadata": {},
     "output_type": "execute_result"
    }
   ],
   "source": [
    "df['brand'].value_counts()"
   ]
  },
  {
   "cell_type": "code",
   "execution_count": 30,
   "metadata": {},
   "outputs": [
    {
     "data": {
      "text/plain": [
       "medium    13826\n",
       "high       3013\n",
       "low        2964\n",
       "Name: product_class, dtype: int64"
      ]
     },
     "execution_count": 30,
     "metadata": {},
     "output_type": "execute_result"
    }
   ],
   "source": [
    "df['product_class'].value_counts()"
   ]
  },
  {
   "cell_type": "code",
   "execution_count": 31,
   "metadata": {},
   "outputs": [
    {
     "data": {
      "text/plain": [
       "Standard    14176\n",
       "Road         3970\n",
       "Touring      1234\n",
       "Mountain      423\n",
       "Name: product_line, dtype: int64"
      ]
     },
     "execution_count": 31,
     "metadata": {},
     "output_type": "execute_result"
    }
   ],
   "source": [
    "df['product_line'].value_counts()"
   ]
  },
  {
   "cell_type": "code",
   "execution_count": 32,
   "metadata": {},
   "outputs": [
    {
     "data": {
      "text/plain": [
       "medium    13826\n",
       "high       3013\n",
       "low        2964\n",
       "Name: product_class, dtype: int64"
      ]
     },
     "execution_count": 32,
     "metadata": {},
     "output_type": "execute_result"
    }
   ],
   "source": [
    "df['product_class'].value_counts()"
   ]
  },
  {
   "cell_type": "code",
   "execution_count": 33,
   "metadata": {},
   "outputs": [
    {
     "data": {
      "text/plain": [
       "medium    12990\n",
       "large      3976\n",
       "small      2837\n",
       "Name: product_size, dtype: int64"
      ]
     },
     "execution_count": 33,
     "metadata": {},
     "output_type": "execute_result"
    }
   ],
   "source": [
    "df['product_size'].value_counts()"
   ]
  },
  {
   "cell_type": "markdown",
   "metadata": {},
   "source": [
    "## Converting object data type into date format "
   ]
  },
  {
   "cell_type": "code",
   "execution_count": 34,
   "metadata": {},
   "outputs": [],
   "source": [
    "df[\"product_first_sold_date\"]= pd.to_datetime(df[\"product_first_sold_date\"])"
   ]
  },
  {
   "cell_type": "code",
   "execution_count": 35,
   "metadata": {},
   "outputs": [
    {
     "data": {
      "text/plain": [
       "0   2015-02-08\n",
       "1   1997-08-25\n",
       "2   1992-02-10\n",
       "3   2012-02-12\n",
       "4   1992-02-10\n",
       "Name: product_first_sold_date, dtype: datetime64[ns]"
      ]
     },
     "execution_count": 35,
     "metadata": {},
     "output_type": "execute_result"
    }
   ],
   "source": [
    "df[\"product_first_sold_date\"].head()"
   ]
  },
  {
   "cell_type": "code",
   "execution_count": 36,
   "metadata": {},
   "outputs": [],
   "source": [
    "df[\"transaction_date\"]= pd.to_datetime(df[\"transaction_date\"])"
   ]
  },
  {
   "cell_type": "code",
   "execution_count": 37,
   "metadata": {},
   "outputs": [
    {
     "data": {
      "text/plain": [
       "0   2015-02-08\n",
       "1   1997-08-25\n",
       "2   1992-02-10\n",
       "3   2012-02-12\n",
       "4   1992-02-10\n",
       "Name: product_first_sold_date, dtype: datetime64[ns]"
      ]
     },
     "execution_count": 37,
     "metadata": {},
     "output_type": "execute_result"
    }
   ],
   "source": [
    "df[\"product_first_sold_date\"].head()"
   ]
  },
  {
   "cell_type": "markdown",
   "metadata": {},
   "source": [
    "## Save the data frame in '.csv' fromat"
   ]
  },
  {
   "cell_type": "code",
   "execution_count": 38,
   "metadata": {},
   "outputs": [],
   "source": [
    "df.to_csv('transaction_ready.csv', index=False)"
   ]
  }
 ],
 "metadata": {
  "kernelspec": {
   "display_name": "Python 3",
   "language": "python",
   "name": "python3"
  },
  "language_info": {
   "codemirror_mode": {
    "name": "ipython",
    "version": 3
   },
   "file_extension": ".py",
   "mimetype": "text/x-python",
   "name": "python",
   "nbconvert_exporter": "python",
   "pygments_lexer": "ipython3",
   "version": "3.7.3"
  }
 },
 "nbformat": 4,
 "nbformat_minor": 2
}
