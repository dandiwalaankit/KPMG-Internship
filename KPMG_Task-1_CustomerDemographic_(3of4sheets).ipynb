{
 "cells": [
  {
   "cell_type": "markdown",
   "metadata": {},
   "source": [
    "# Task-1: Data Quality Issues _ CustomerDemographic"
   ]
  },
  {
   "cell_type": "markdown",
   "metadata": {},
   "source": [
    "The client has provided us with four datasets.\n",
    "They are:\n",
    "1) Customer Demographic\n",
    "2) Transaction details\n",
    "3) Customer address\n",
    "4) New customer list"
   ]
  },
  {
   "cell_type": "code",
   "execution_count": 1,
   "metadata": {},
   "outputs": [],
   "source": [
    "#Import the required librariesabs\n",
    "import pandas as pd\n",
    "import numpy as np"
   ]
  },
  {
   "cell_type": "markdown",
   "metadata": {},
   "source": [
    "## Reading Excel file given by the client"
   ]
  },
  {
   "cell_type": "code",
   "execution_count": 2,
   "metadata": {},
   "outputs": [],
   "source": [
    "df=pd.read_excel(\"G:\\My Drive\\KPMG\\Task 1\\KPMG_ImportPython.xlsx\",\"CustomerDemographic\")"
   ]
  },
  {
   "cell_type": "markdown",
   "metadata": {},
   "source": [
    "Let us copy the same data frame (as below) so that changes to be made in future may not affect the Excel file"
   ]
  },
  {
   "cell_type": "code",
   "execution_count": 3,
   "metadata": {},
   "outputs": [],
   "source": [
    "df=df.copy()"
   ]
  },
  {
   "cell_type": "markdown",
   "metadata": {},
   "source": [
    "## Viewing the data frame"
   ]
  },
  {
   "cell_type": "code",
   "execution_count": 4,
   "metadata": {},
   "outputs": [
    {
     "data": {
      "text/html": [
       "<div>\n",
       "<style scoped>\n",
       "    .dataframe tbody tr th:only-of-type {\n",
       "        vertical-align: middle;\n",
       "    }\n",
       "\n",
       "    .dataframe tbody tr th {\n",
       "        vertical-align: top;\n",
       "    }\n",
       "\n",
       "    .dataframe thead th {\n",
       "        text-align: right;\n",
       "    }\n",
       "</style>\n",
       "<table border=\"1\" class=\"dataframe\">\n",
       "  <thead>\n",
       "    <tr style=\"text-align: right;\">\n",
       "      <th></th>\n",
       "      <th>customer_id</th>\n",
       "      <th>first_name</th>\n",
       "      <th>last_name</th>\n",
       "      <th>gender</th>\n",
       "      <th>past_3_years_bike_related_purchases</th>\n",
       "      <th>DOB</th>\n",
       "      <th>job_title</th>\n",
       "      <th>job_industry_category</th>\n",
       "      <th>wealth_segment</th>\n",
       "      <th>deceased_indicator</th>\n",
       "      <th>default</th>\n",
       "      <th>owns_car</th>\n",
       "      <th>tenure</th>\n",
       "    </tr>\n",
       "  </thead>\n",
       "  <tbody>\n",
       "    <tr>\n",
       "      <th>0</th>\n",
       "      <td>1</td>\n",
       "      <td>Laraine</td>\n",
       "      <td>Medendorp</td>\n",
       "      <td>F</td>\n",
       "      <td>93</td>\n",
       "      <td>1953-10-12</td>\n",
       "      <td>Executive Secretary</td>\n",
       "      <td>Health</td>\n",
       "      <td>Mass Customer</td>\n",
       "      <td>N</td>\n",
       "      <td>\"'</td>\n",
       "      <td>Yes</td>\n",
       "      <td>11.0</td>\n",
       "    </tr>\n",
       "    <tr>\n",
       "      <th>1</th>\n",
       "      <td>2</td>\n",
       "      <td>Eli</td>\n",
       "      <td>Bockman</td>\n",
       "      <td>Male</td>\n",
       "      <td>81</td>\n",
       "      <td>1980-12-16</td>\n",
       "      <td>Administrative Officer</td>\n",
       "      <td>Financial Services</td>\n",
       "      <td>Mass Customer</td>\n",
       "      <td>N</td>\n",
       "      <td>&lt;script&gt;alert('hi')&lt;/script&gt;</td>\n",
       "      <td>Yes</td>\n",
       "      <td>16.0</td>\n",
       "    </tr>\n",
       "    <tr>\n",
       "      <th>2</th>\n",
       "      <td>3</td>\n",
       "      <td>Arlin</td>\n",
       "      <td>Dearle</td>\n",
       "      <td>Male</td>\n",
       "      <td>61</td>\n",
       "      <td>1954-01-20</td>\n",
       "      <td>Recruiting Manager</td>\n",
       "      <td>Property</td>\n",
       "      <td>Mass Customer</td>\n",
       "      <td>N</td>\n",
       "      <td>2018-02-01 00:00:00</td>\n",
       "      <td>Yes</td>\n",
       "      <td>15.0</td>\n",
       "    </tr>\n",
       "    <tr>\n",
       "      <th>3</th>\n",
       "      <td>4</td>\n",
       "      <td>Talbot</td>\n",
       "      <td>NaN</td>\n",
       "      <td>Male</td>\n",
       "      <td>33</td>\n",
       "      <td>1961-10-03</td>\n",
       "      <td>NaN</td>\n",
       "      <td>IT</td>\n",
       "      <td>Mass Customer</td>\n",
       "      <td>N</td>\n",
       "      <td>() { _; } &gt;_[$($())] { touch /tmp/blns.shellsh...</td>\n",
       "      <td>No</td>\n",
       "      <td>7.0</td>\n",
       "    </tr>\n",
       "    <tr>\n",
       "      <th>4</th>\n",
       "      <td>5</td>\n",
       "      <td>Sheila-kathryn</td>\n",
       "      <td>Calton</td>\n",
       "      <td>Female</td>\n",
       "      <td>56</td>\n",
       "      <td>1977-05-13</td>\n",
       "      <td>Senior Editor</td>\n",
       "      <td>NaN</td>\n",
       "      <td>Affluent Customer</td>\n",
       "      <td>N</td>\n",
       "      <td>NIL</td>\n",
       "      <td>Yes</td>\n",
       "      <td>8.0</td>\n",
       "    </tr>\n",
       "  </tbody>\n",
       "</table>\n",
       "</div>"
      ],
      "text/plain": [
       "   customer_id      first_name  last_name  gender  \\\n",
       "0            1         Laraine  Medendorp       F   \n",
       "1            2             Eli    Bockman    Male   \n",
       "2            3           Arlin     Dearle    Male   \n",
       "3            4          Talbot        NaN    Male   \n",
       "4            5  Sheila-kathryn     Calton  Female   \n",
       "\n",
       "   past_3_years_bike_related_purchases        DOB               job_title  \\\n",
       "0                                   93 1953-10-12     Executive Secretary   \n",
       "1                                   81 1980-12-16  Administrative Officer   \n",
       "2                                   61 1954-01-20      Recruiting Manager   \n",
       "3                                   33 1961-10-03                     NaN   \n",
       "4                                   56 1977-05-13           Senior Editor   \n",
       "\n",
       "  job_industry_category     wealth_segment deceased_indicator  \\\n",
       "0                Health      Mass Customer                  N   \n",
       "1    Financial Services      Mass Customer                  N   \n",
       "2              Property      Mass Customer                  N   \n",
       "3                    IT      Mass Customer                  N   \n",
       "4                   NaN  Affluent Customer                  N   \n",
       "\n",
       "                                             default owns_car  tenure  \n",
       "0                                                 \"'      Yes    11.0  \n",
       "1                       <script>alert('hi')</script>      Yes    16.0  \n",
       "2                                2018-02-01 00:00:00      Yes    15.0  \n",
       "3  () { _; } >_[$($())] { touch /tmp/blns.shellsh...       No     7.0  \n",
       "4                                                NIL      Yes     8.0  "
      ]
     },
     "execution_count": 4,
     "metadata": {},
     "output_type": "execute_result"
    }
   ],
   "source": [
    "df.head(5)"
   ]
  },
  {
   "cell_type": "markdown",
   "metadata": {},
   "source": [
    "## Exploring shape of the sheet "
   ]
  },
  {
   "cell_type": "code",
   "execution_count": 5,
   "metadata": {},
   "outputs": [
    {
     "data": {
      "text/plain": [
       "(4000, 13)"
      ]
     },
     "execution_count": 5,
     "metadata": {},
     "output_type": "execute_result"
    }
   ],
   "source": [
    "df.shape"
   ]
  },
  {
   "cell_type": "markdown",
   "metadata": {},
   "source": [
    "## Exploring columns of the sheets "
   ]
  },
  {
   "cell_type": "code",
   "execution_count": 6,
   "metadata": {},
   "outputs": [
    {
     "data": {
      "text/plain": [
       "Index(['customer_id', 'first_name', 'last_name', 'gender',\n",
       "       'past_3_years_bike_related_purchases', 'DOB', 'job_title',\n",
       "       'job_industry_category', 'wealth_segment', 'deceased_indicator',\n",
       "       'default', 'owns_car', 'tenure'],\n",
       "      dtype='object')"
      ]
     },
     "execution_count": 6,
     "metadata": {},
     "output_type": "execute_result"
    }
   ],
   "source": [
    "df.columns"
   ]
  },
  {
   "cell_type": "markdown",
   "metadata": {},
   "source": [
    "## Checking Data Types of each attribute in each sheet"
   ]
  },
  {
   "cell_type": "code",
   "execution_count": 7,
   "metadata": {},
   "outputs": [
    {
     "data": {
      "text/plain": [
       "customer_id                                     int64\n",
       "first_name                                     object\n",
       "last_name                                      object\n",
       "gender                                         object\n",
       "past_3_years_bike_related_purchases             int64\n",
       "DOB                                    datetime64[ns]\n",
       "job_title                                      object\n",
       "job_industry_category                          object\n",
       "wealth_segment                                 object\n",
       "deceased_indicator                             object\n",
       "default                                        object\n",
       "owns_car                                       object\n",
       "tenure                                        float64\n",
       "dtype: object"
      ]
     },
     "execution_count": 7,
     "metadata": {},
     "output_type": "execute_result"
    }
   ],
   "source": [
    "df.dtypes"
   ]
  },
  {
   "cell_type": "markdown",
   "metadata": {},
   "source": [
    "## Describe the data columnwise use \"df.describe()\""
   ]
  },
  {
   "cell_type": "markdown",
   "metadata": {},
   "source": [
    "## Checking for Null/missing values"
   ]
  },
  {
   "cell_type": "code",
   "execution_count": 8,
   "metadata": {},
   "outputs": [
    {
     "data": {
      "text/plain": [
       "customer_id                              0\n",
       "first_name                               0\n",
       "last_name                              125\n",
       "gender                                   0\n",
       "past_3_years_bike_related_purchases      0\n",
       "DOB                                     87\n",
       "job_title                              506\n",
       "job_industry_category                  656\n",
       "wealth_segment                           0\n",
       "deceased_indicator                       0\n",
       "default                                302\n",
       "owns_car                                 0\n",
       "tenure                                  87\n",
       "dtype: int64"
      ]
     },
     "execution_count": 8,
     "metadata": {},
     "output_type": "execute_result"
    }
   ],
   "source": [
    "df.isnull().sum()"
   ]
  },
  {
   "cell_type": "markdown",
   "metadata": {},
   "source": [
    "## Exploring columns "
   ]
  },
  {
   "cell_type": "code",
   "execution_count": 9,
   "metadata": {},
   "outputs": [
    {
     "data": {
      "text/plain": [
       "Manufacturing         799\n",
       "Financial Services    774\n",
       "Health                602\n",
       "Retail                358\n",
       "Property              267\n",
       "IT                    223\n",
       "Entertainment         136\n",
       "Argiculture           113\n",
       "Telecommunications     72\n",
       "Name: job_industry_category, dtype: int64"
      ]
     },
     "execution_count": 9,
     "metadata": {},
     "output_type": "execute_result"
    }
   ],
   "source": [
    "df.iloc[:,7].value_counts()"
   ]
  },
  {
   "cell_type": "markdown",
   "metadata": {},
   "source": [
    "Here, in [], : before comma indicates the row index, here : means all rows. Similarly values after comma indicates the column index, here 7 means 8th column Because, the indices in python start with zero."
   ]
  },
  {
   "cell_type": "markdown",
   "metadata": {},
   "source": [
    "Below is the other way to explore the same column, i.e. Transactions.iloc[:,7] = job_industry_category"
   ]
  },
  {
   "cell_type": "code",
   "execution_count": 10,
   "metadata": {},
   "outputs": [
    {
     "data": {
      "text/plain": [
       "Manufacturing         799\n",
       "Financial Services    774\n",
       "Health                602\n",
       "Retail                358\n",
       "Property              267\n",
       "IT                    223\n",
       "Entertainment         136\n",
       "Argiculture           113\n",
       "Telecommunications     72\n",
       "Name: job_industry_category, dtype: int64"
      ]
     },
     "execution_count": 10,
     "metadata": {},
     "output_type": "execute_result"
    }
   ],
   "source": [
    "df['job_industry_category'].value_counts()"
   ]
  },
  {
   "cell_type": "markdown",
   "metadata": {},
   "source": [
    "## Why to see value_counts seperately for each column?, Make a loop so that together we get the desired answer for all columns.. "
   ]
  },
  {
   "cell_type": "code",
   "execution_count": 11,
   "metadata": {},
   "outputs": [
    {
     "data": {
      "text/plain": [
       "Index(['customer_id', 'first_name', 'last_name', 'gender',\n",
       "       'past_3_years_bike_related_purchases', 'DOB', 'job_title',\n",
       "       'job_industry_category', 'wealth_segment', 'deceased_indicator',\n",
       "       'default', 'owns_car', 'tenure'],\n",
       "      dtype='object')"
      ]
     },
     "execution_count": 11,
     "metadata": {},
     "output_type": "execute_result"
    }
   ],
   "source": [
    "df.columns"
   ]
  },
  {
   "cell_type": "code",
   "execution_count": 12,
   "metadata": {},
   "outputs": [],
   "source": [
    "df_columns=['customer_id', 'first_name', 'last_name', 'gender',\n",
    "       'past_3_years_bike_related_purchases', 'DOB', 'job_title',\n",
    "       'job_industry_category', 'wealth_segment', 'deceased_indicator',\n",
    "       'default', 'owns_car', 'tenure']"
   ]
  },
  {
   "cell_type": "code",
   "execution_count": 13,
   "metadata": {},
   "outputs": [
    {
     "name": "stdout",
     "output_type": "stream",
     "text": [
      "2047    1\n",
      "657     1\n",
      "2732    1\n",
      "681     1\n",
      "2728    1\n",
      "677     1\n",
      "2724    1\n",
      "673     1\n",
      "2720    1\n",
      "669     1\n",
      "2716    1\n",
      "665     1\n",
      "2712    1\n",
      "661     1\n",
      "2708    1\n",
      "2704    1\n",
      "625     1\n",
      "653     1\n",
      "2700    1\n",
      "649     1\n",
      "2696    1\n",
      "645     1\n",
      "2692    1\n",
      "641     1\n",
      "2688    1\n",
      "637     1\n",
      "2684    1\n",
      "633     1\n",
      "2680    1\n",
      "629     1\n",
      "       ..\n",
      "3419    1\n",
      "3363    1\n",
      "1370    1\n",
      "3415    1\n",
      "1366    1\n",
      "3411    1\n",
      "1362    1\n",
      "3407    1\n",
      "1358    1\n",
      "3403    1\n",
      "1354    1\n",
      "3399    1\n",
      "1350    1\n",
      "3395    1\n",
      "1346    1\n",
      "3391    1\n",
      "1342    1\n",
      "3387    1\n",
      "1338    1\n",
      "3383    1\n",
      "1334    1\n",
      "3379    1\n",
      "1330    1\n",
      "3375    1\n",
      "1326    1\n",
      "3371    1\n",
      "1322    1\n",
      "3367    1\n",
      "1318    1\n",
      "2049    1\n",
      "Name: customer_id, Length: 4000, dtype: int64\n",
      "Max            5\n",
      "Timmie         5\n",
      "Tobe           5\n",
      "Kippy          4\n",
      "Pail           4\n",
      "Basile         4\n",
      "Urbanus        4\n",
      "Gerome         4\n",
      "Emlyn          4\n",
      "Lindsay        4\n",
      "Osgood         4\n",
      "Corabelle      4\n",
      "Kim            4\n",
      "Hubie          4\n",
      "Andrea         3\n",
      "Andreas        3\n",
      "Normand        3\n",
      "Jayme          3\n",
      "Erik           3\n",
      "Lauree         3\n",
      "Coop           3\n",
      "Marcile        3\n",
      "Kylie          3\n",
      "Lorain         3\n",
      "Sorcha         3\n",
      "Lenci          3\n",
      "Brita          3\n",
      "Crosby         3\n",
      "Tish           3\n",
      "Trisha         3\n",
      "              ..\n",
      "Solomon        1\n",
      "Abby           1\n",
      "Jewelle        1\n",
      "Alejandrina    1\n",
      "Rosana         1\n",
      "Agustin        1\n",
      "Johnette       1\n",
      "Bryant         1\n",
      "Teodora        1\n",
      "Cayla          1\n",
      "Evvie          1\n",
      "Moreen         1\n",
      "Tatum          1\n",
      "Ansel          1\n",
      "Nadya          1\n",
      "Devy           1\n",
      "Erny           1\n",
      "Andras         1\n",
      "Ynez           1\n",
      "Bettina        1\n",
      "Selene         1\n",
      "Silvester      1\n",
      "Alexandr       1\n",
      "Damiano        1\n",
      "Willie         1\n",
      "Aura           1\n",
      "Pincus         1\n",
      "Olvan          1\n",
      "Jonathon       1\n",
      "Cordi          1\n",
      "Name: first_name, Length: 3139, dtype: int64\n",
      "Ramsdell       3\n",
      "Pristnor       3\n",
      "Bernardini     2\n",
      "Smetoun        2\n",
      "Dumphy         2\n",
      "Olford         2\n",
      "Chapelhow      2\n",
      "Carswell       2\n",
      "Foulcher       2\n",
      "Thirlwall      2\n",
      "Dyde           2\n",
      "Sanderson      2\n",
      "Zisneros       2\n",
      "Dinan          2\n",
      "Dyke           2\n",
      "Strafen        2\n",
      "Leyshon        2\n",
      "Petschelt      2\n",
      "Markel         2\n",
      "Nissle         2\n",
      "Hammant        2\n",
      "Dwerryhouse    2\n",
      "O'Halloran     2\n",
      "Wasling        2\n",
      "Lamming        2\n",
      "Hackworth      2\n",
      "Saltmarshe     2\n",
      "Dredge         2\n",
      "Neissen        2\n",
      "Ubanks         2\n",
      "              ..\n",
      "Morrice        1\n",
      "Tarver         1\n",
      "Nickless       1\n",
      "Bigglestone    1\n",
      "Giordano       1\n",
      "Restall        1\n",
      "Robberts       1\n",
      "Girault        1\n",
      "Bamford        1\n",
      "Shalliker      1\n",
      "Nawton         1\n",
      "Caine          1\n",
      "Pattillo       1\n",
      "Besset         1\n",
      "Marrion        1\n",
      "Eleshenar      1\n",
      "Bacon          1\n",
      "Jeger          1\n",
      "Flannigan      1\n",
      "Coales         1\n",
      "De la Harpe    1\n",
      "Milnthorpe     1\n",
      "Gate           1\n",
      "Pryn           1\n",
      "Wehner         1\n",
      "McCard         1\n",
      "Noye           1\n",
      "Fundell        1\n",
      "Verick         1\n",
      "Ranklin        1\n",
      "Name: last_name, Length: 3725, dtype: int64\n",
      "Female    2037\n",
      "Male      1872\n",
      "U           88\n",
      "F            1\n",
      "Femal        1\n",
      "M            1\n",
      "Name: gender, dtype: int64\n",
      "16    56\n",
      "19    56\n",
      "20    54\n",
      "67    54\n",
      "2     50\n",
      "80    49\n",
      "44    49\n",
      "53    49\n",
      "33    49\n",
      "37    49\n",
      "38    49\n",
      "72    48\n",
      "73    48\n",
      "11    48\n",
      "27    48\n",
      "13    47\n",
      "98    47\n",
      "48    46\n",
      "96    46\n",
      "23    46\n",
      "93    46\n",
      "47    45\n",
      "6     45\n",
      "82    44\n",
      "34    44\n",
      "99    44\n",
      "59    44\n",
      "10    43\n",
      "69    43\n",
      "35    43\n",
      "      ..\n",
      "50    37\n",
      "88    37\n",
      "41    36\n",
      "94    36\n",
      "7     35\n",
      "57    35\n",
      "87    35\n",
      "74    35\n",
      "1     35\n",
      "55    35\n",
      "56    34\n",
      "78    34\n",
      "31    34\n",
      "5     33\n",
      "43    33\n",
      "26    33\n",
      "84    33\n",
      "52    32\n",
      "75    32\n",
      "28    31\n",
      "3     30\n",
      "21    30\n",
      "45    29\n",
      "61    29\n",
      "58    29\n",
      "8     28\n",
      "86    27\n",
      "95    27\n",
      "85    27\n",
      "92    24\n",
      "Name: past_3_years_bike_related_purchases, Length: 100, dtype: int64\n",
      "1978-01-30    7\n",
      "1977-05-13    4\n",
      "1976-07-16    4\n",
      "1978-08-19    4\n",
      "1976-09-25    4\n",
      "1964-07-08    4\n",
      "1962-12-17    4\n",
      "1985-12-28    3\n",
      "1978-08-07    3\n",
      "1999-07-28    3\n",
      "1978-02-24    3\n",
      "1997-10-16    3\n",
      "1973-07-31    3\n",
      "1987-06-16    3\n",
      "1974-08-29    3\n",
      "1960-01-11    3\n",
      "1956-08-08    3\n",
      "1980-01-11    3\n",
      "1978-04-20    3\n",
      "1962-01-14    3\n",
      "1977-03-22    3\n",
      "1998-02-10    3\n",
      "1962-03-30    3\n",
      "1976-09-06    3\n",
      "1989-02-15    3\n",
      "1996-05-07    3\n",
      "1977-02-27    3\n",
      "1977-12-22    3\n",
      "1968-07-28    3\n",
      "1980-09-01    3\n",
      "             ..\n",
      "1984-06-15    1\n",
      "1979-11-21    1\n",
      "1974-03-07    1\n",
      "1969-08-12    1\n",
      "1971-04-01    1\n",
      "1995-03-23    1\n",
      "1994-07-29    1\n",
      "1935-08-22    1\n",
      "1992-04-16    1\n",
      "1985-06-10    1\n",
      "1983-02-27    1\n",
      "1980-11-15    1\n",
      "1974-01-09    1\n",
      "1973-12-29    1\n",
      "1995-12-07    1\n",
      "1989-01-30    1\n",
      "1984-07-07    1\n",
      "1979-12-13    1\n",
      "1977-08-31    1\n",
      "1971-12-16    1\n",
      "1967-05-23    1\n",
      "1954-10-31    1\n",
      "1992-11-24    1\n",
      "1985-11-15    1\n",
      "1975-08-07    1\n",
      "1974-06-16    1\n",
      "1969-11-21    1\n",
      "1961-11-24    1\n",
      "1995-05-03    1\n",
      "1972-04-14    1\n",
      "Name: DOB, Length: 3448, dtype: int64\n",
      "Business Systems Development Analyst    45\n",
      "Social Worker                           44\n",
      "Tax Accountant                          44\n",
      "Internal Auditor                        42\n",
      "Legal Assistant                         41\n",
      "Recruiting Manager                      41\n",
      "General Manager                         40\n",
      "Associate Professor                     39\n",
      "Structural Engineer                     39\n",
      "Junior Executive                        38\n",
      "Desktop Support Technician              38\n",
      "Sales Representative                    38\n",
      "Senior Financial Analyst                37\n",
      "Technical Writer                        37\n",
      "Executive Secretary                     37\n",
      "Chemical Engineer                       37\n",
      "Dental Hygienist                        37\n",
      "Registered Nurse                        36\n",
      "Senior Developer                        36\n",
      "Cost Accountant                         36\n",
      "Assistant Professor                     36\n",
      "Product Engineer                        36\n",
      "Food Chemist                            35\n",
      "VP Product Management                   34\n",
      "Administrative Officer                  34\n",
      "Assistant Media Planner                 33\n",
      "Account Executive                       33\n",
      "Research Nurse                          33\n",
      "VP Quality Control                      33\n",
      "Information Systems Manager             33\n",
      "                                        ..\n",
      "Programmer IV                            6\n",
      "Web Developer II                         6\n",
      "Web Developer IV                         6\n",
      "Media Manager I                          6\n",
      "Software Engineer I                      6\n",
      "Software Engineer IV                     6\n",
      "Budget/Accounting Analyst III            6\n",
      "Safety Technician IV                     6\n",
      "Statistician III                         6\n",
      "Programmer I                             6\n",
      "Research Assistant I                     5\n",
      "Automation Specialist III                5\n",
      "Biostatistician III                      5\n",
      "Staff Accountant IV                      5\n",
      "Research Assistant IV                    5\n",
      "Developer IV                             5\n",
      "Systems Administrator IV                 4\n",
      "Staff Accountant I                       4\n",
      "Database Administrator I                 4\n",
      "Database Administrator II                4\n",
      "Account Representative II                4\n",
      "Human Resources Assistant IV             4\n",
      "Computer Systems Analyst III             4\n",
      "Administrative Assistant II              4\n",
      "Geologist II                             4\n",
      "Programmer Analyst IV                    4\n",
      "Health Coach I                           3\n",
      "Research Assistant III                   3\n",
      "Health Coach III                         3\n",
      "Developer I                              1\n",
      "Name: job_title, Length: 195, dtype: int64\n",
      "Manufacturing         799\n",
      "Financial Services    774\n",
      "Health                602\n",
      "Retail                358\n",
      "Property              267\n",
      "IT                    223\n",
      "Entertainment         136\n",
      "Argiculture           113\n",
      "Telecommunications     72\n",
      "Name: job_industry_category, dtype: int64\n",
      "Mass Customer        2000\n",
      "High Net Worth       1021\n",
      "Affluent Customer     979\n",
      "Name: wealth_segment, dtype: int64\n",
      "N    3998\n",
      "Y       2\n",
      "Name: deceased_indicator, dtype: int64\n",
      "100                                                                                                                                                                                                                   113\n",
      "1                                                                                                                                                                                                                     112\n",
      "-1                                                                                                                                                                                                                    111\n",
      "-100                                                                                                                                                                                                                   99\n",
      "â°â´âµâââ                                                                                                                                                                                                              53\n",
      "Ù¡Ù¢Ù£                                                                                                                                                                                                                 53\n",
      "ï½ï½¨(Â´âï½â©                                                                                                                                                                                                          52\n",
      "../../../../../../../../../../../etc/passwd%00                                                                                                                                                                         50\n",
      "!@#$%^&*()                                                                                                                                                                                                             48\n",
      "â°â´âµ                                                                                                                                                                                                                 48\n",
      "â¦testâ§                                                                                                                                                                                                               47\n",
      "(ï¾à²¥çà²¥ï¼ï¾ï»¿ â»ââ»                                                                                                                                                                                                45\n",
      "Ø«Ù ÙÙØ³ Ø³ÙØ·Øª ÙØ¨Ø§ÙØªØ­Ø¯ÙØ¯Ø, Ø¬Ø²ÙØ±ØªÙ Ø¨Ø§Ø³ØªØ®Ø¯Ø§Ù Ø£Ù Ø¯ÙÙ. Ø¥Ø° ÙÙØ§Ø Ø§ÙØ³ØªØ§Ø± ÙØªÙØµÙØ¨ ÙØ§Ù. Ø£ÙÙÙ Ø§ÙØ·Ø§ÙÙØ§Ø Ø¨Ø±ÙØ·Ø§ÙÙØ§-ÙØ±ÙØ³Ø§ ÙØ¯ Ø£Ø®Ø°. Ø³ÙÙÙØ§ÙØ Ø¥ØªÙØ§ÙÙØ© Ø¨ÙÙ ÙØ§, ÙØ°ÙØ± Ø          44\n",
      "ZÌ®ÌÍÌ ÍÍAÌ¥ÌÌÍÌ»ÌLÌ£ÍÍÌ¯Ì¹ÌÍGÌ»OÌ­ÌÌ®                                                                                                                                                                                 43\n",
      "â                                                                                                                                                                                                                      43\n",
      "1000000000000000049861653971908893017010268485438462151574892930611988399099305815384459015356416                                                                                                                      43\n",
      "0/0                                                                                                                                                                                                                    43\n",
      "Ì¦HÍÌ¬Ì¤ÌÌ¤eÍ ÍÌÌ¥ÌÌ»ÍÌwÌhÌÌ¯ÍoÌÍÌÍÌ±Ì® ÒÌºÌÌÌÍWÌ·Ì¼Ì­aÌºÌªÍiÌ¨ÍÍÌ­ÍÌ¯ÌtÌ¶Ì¼Ì®sÌÌÍÍ Ì Ì«Ì BÌ»ÍÍÍÍÌ³eÌµhÌµÌ¬ÍÌ«ÍiÌÌ¹ÍÌ³Ì³Ì®ÍÌ«nÍdÌ´ÌªÌÌ ÍÌ°ÍÌ©ÍÍÍÌ²TÍ¢ÍÌ¼ÍÌªhÍÍÌ®Ì»eÌ¬ÌÍÌ Ì¤Ì¹ÌWÍÍÍÌÌÍÍaÍÍÍÌ¹Ì¼                         43\n",
      "ÅâÂ´â°ËÃÂ¨ËÃâââ                                                                                                                                                                                                        43\n",
      "__ï¾(,_,*)                                                                                                                                                                                                             43\n",
      "TÌÌ­ÌºÌºoÍ Ì·iÌ²Ì¬ÍÌªÍnÌÌÍvÍÌÌÌÌ¦oÌ¶ÌÌ°Ì keÍÍÌ®ÌºÌªÌ¹Ì±Ì¤ ÌtÍÌÍÌ³Ì£Ì»ÌªhÌ¼ÍÌ²Ì¦Ì³ÌÌ²eÍÌ£Ì°Ì¦Ì¬Í Ì¢Ì¼Ì»Ì±ÌhÍÍÍÍÌÌ£Ì²iÌ¦Ì²Ì£Ì°Ì¤vÌ»ÍeÌºÌ­Ì³ÌªÌ°-mÌ¢iÍnÌÌºÌÌ²Ì¯Ì°dÌµÌ¼ÌÍÌ©Ì¼ÌÌ³ ÌÌ¥Ì±Ì³Ì­rÌÌÌeÍpÍ rÌ¼ÌÌ»Ì­ÌeÍÌºÌ Ì£sÌ     42\n",
      "ÅâÂ´Â®â Â¥Â¨ËÃ¸Ïââ                                                                                                                                                                                                     42\n",
      "`ââ¬â¹âºï¬ï¬â¡Â°Â·ââÂ±                                                                                                                                                                                                 42\n",
      "á                                                                                                                                                                                                                      42\n",
      "nil                                                                                                                                                                                                                    42\n",
      "Â¸ËÃâÄ±ËÃÂ¯ËÂ¿                                                                                                                                                                                                         42\n",
      "â«testâ«                                                                                                                                                                                                               41\n",
      "âââ                                                                                                                                                                                                                    41\n",
      "ãã¼ãã£ã¼ã¸è¡ããªãã                                                                                                                                                                                                      41\n",
      "ì¬íê³¼íì ì´íì°êµ¬ì                                                                                                                                                                                                     41\n",
      "                                                                                                                                                                                                                     ... \n",
      "ð                                                                                                                                                                                                                      36\n",
      "ðµ ð ð ð                                                                                                                                                                                                               36\n",
      ",./;'[]\\-=                                                                                                                                                                                                             36\n",
      "2018-02-01 00:00:00                                                                                                                                                                                                    35\n",
      "ï¾ï½¥â¿ã¾â²(ï½¡ââ¿âï½¡)â±â¿ï½¥ï¾                                                                                                                                                                                       35\n",
      "ð©ð½                                                                                                                                                                                                                   35\n",
      "(â¯Â°â¡Â°ï¼â¯ï¸µ â»ââ»)                                                                                                                                                                                                35\n",
      "<>?:\"{}|_+                                                                                                                                                                                                             35\n",
      "../../../../../../../../../../../etc/hosts                                                                                                                                                                             34\n",
      "NIL                                                                                                                                                                                                                    34\n",
      "''''\"                                                                                                                                                                                                                  33\n",
      "ç°ä¸­ããã«ããã¦ä¸ãã                                                                                                                                                                                                      33\n",
      "1'; DROP TABLE users--                                                                                                                                                                                                 33\n",
      "<script>alert('hi')</script>                                                                                                                                                                                           33\n",
      "ã»(ï¿£âï¿£)ã»:*:                                                                                                                                                                                                       33\n",
      "é¨è½æ ¼                                                                                                                                                                                                                33\n",
      "×Ö¸×Ö°×ªÖ¸×testØ§ÙØµÙØ­Ø§Øª Ø§ÙØªÙØ­ÙÙ                                                                                                                                                                                 32\n",
      "Ì¡ÍÍÌIÍÌÌÌ¦nÍÍÍvÌ®Ì«okÌ²Ì«ÌÍiÌÍÌ­Ì¹Ì ÌnÌ¡Ì»Ì®Ì£ÌºgÌ²ÍÍÌ­ÍÌ¬Í Ì°tÍÌ¦hÌÌ²eÌ¢Ì¤ ÍÌ¬Ì²ÍfÌ´ÌÍÌ£eÍÍeÌ£Ì¥Ì©lÍÍÍiÍ ÍÍÌ¦nÍÍÌÍÌ³Ì®gÍ Ì¨oÍ¡ÍÌªfÌÌ£Ì¬ ÌÌÍÌÍÌ®cÒÍÌ«ÍÍÍÍÍhÌµÌ¤Ì£ÍÍaÍÌÌ¼ÍÍoÌ¼Ì£Ì¥sÍ¢Ì±ÍÌºÌÌ¦Ì».ÌÌ                     32\n",
      "ã                                                                                                                                                                                                                      32\n",
      "â¢                                                                                                                                                                                                                     32\n",
      "-0.5                                                                                                                                                                                                                   32\n",
      "testâ testâ«                                                                                                                                                                                                           31\n",
      "'\"''''\"                                                                                                                                                                                                                31\n",
      "ç¤¾æç§å­¸é¢èªå­¸ç ç©¶æ                                                                                                                                                                                                 31\n",
      "<img src=x onerror=alert('hi') />                                                                                                                                                                                      31\n",
      "ð¾ ð ð ð ð ð ð ð                                                                                                                                                                                                       31\n",
      "/dev/null; touch /tmp/blns.fail ; echo                                                                                                                                                                                 30\n",
      "âªâªtestâª                                                                                                                                                                                                             29\n",
      "ì¸ëë°í ë¥´                                                                                                                                                                                                             27\n",
      ",ãã»:*:ã»ãâ( â» Ï â» )ãã»:*:ã»ãâ                                                                                                                                                                                       25\n",
      "Name: default, Length: 90, dtype: int64\n",
      "Yes    2024\n",
      "No     1976\n",
      "Name: owns_car, dtype: int64\n",
      "7.0     235\n",
      "5.0     228\n",
      "11.0    221\n",
      "10.0    218\n",
      "16.0    215\n",
      "8.0     211\n",
      "18.0    208\n",
      "12.0    202\n",
      "9.0     200\n",
      "14.0    200\n",
      "6.0     192\n",
      "13.0    191\n",
      "4.0     191\n",
      "17.0    182\n",
      "15.0    179\n",
      "1.0     166\n",
      "3.0     160\n",
      "19.0    159\n",
      "2.0     150\n",
      "20.0     96\n",
      "22.0     55\n",
      "21.0     54\n",
      "Name: tenure, dtype: int64\n"
     ]
    }
   ],
   "source": [
    "for i in df_columns:\n",
    "    print(df[i].value_counts())"
   ]
  },
  {
   "cell_type": "markdown",
   "metadata": {},
   "source": [
    "## Determining percetage of  missing values in each column."
   ]
  },
  {
   "cell_type": "code",
   "execution_count": 14,
   "metadata": {},
   "outputs": [
    {
     "data": {
      "text/plain": [
       "customer_id                              0\n",
       "first_name                               0\n",
       "last_name                              125\n",
       "gender                                   0\n",
       "past_3_years_bike_related_purchases      0\n",
       "DOB                                     87\n",
       "job_title                              506\n",
       "job_industry_category                  656\n",
       "wealth_segment                           0\n",
       "deceased_indicator                       0\n",
       "default                                302\n",
       "owns_car                                 0\n",
       "tenure                                  87\n",
       "dtype: int64"
      ]
     },
     "execution_count": 14,
     "metadata": {},
     "output_type": "execute_result"
    }
   ],
   "source": [
    "missing_count=df.isnull().sum()\n",
    "missing_count"
   ]
  },
  {
   "cell_type": "code",
   "execution_count": 15,
   "metadata": {},
   "outputs": [
    {
     "data": {
      "text/plain": [
       "4000"
      ]
     },
     "execution_count": 15,
     "metadata": {},
     "output_type": "execute_result"
    }
   ],
   "source": [
    "total=len(df)\n",
    "total"
   ]
  },
  {
   "cell_type": "code",
   "execution_count": 16,
   "metadata": {},
   "outputs": [
    {
     "data": {
      "text/plain": [
       "customer_id                             0.000\n",
       "first_name                              0.000\n",
       "last_name                               3.125\n",
       "gender                                  0.000\n",
       "past_3_years_bike_related_purchases     0.000\n",
       "DOB                                     2.175\n",
       "job_title                              12.650\n",
       "job_industry_category                  16.400\n",
       "wealth_segment                          0.000\n",
       "deceased_indicator                      0.000\n",
       "default                                 7.550\n",
       "owns_car                                0.000\n",
       "tenure                                  2.175\n",
       "dtype: float64"
      ]
     },
     "execution_count": 16,
     "metadata": {},
     "output_type": "execute_result"
    }
   ],
   "source": [
    "percentageMissing=missing_count*100/total\n",
    "percentageMissing"
   ]
  },
  {
   "cell_type": "code",
   "execution_count": 17,
   "metadata": {},
   "outputs": [
    {
     "data": {
      "text/html": [
       "<div>\n",
       "<style scoped>\n",
       "    .dataframe tbody tr th:only-of-type {\n",
       "        vertical-align: middle;\n",
       "    }\n",
       "\n",
       "    .dataframe tbody tr th {\n",
       "        vertical-align: top;\n",
       "    }\n",
       "\n",
       "    .dataframe thead th {\n",
       "        text-align: right;\n",
       "    }\n",
       "</style>\n",
       "<table border=\"1\" class=\"dataframe\">\n",
       "  <thead>\n",
       "    <tr style=\"text-align: right;\">\n",
       "      <th></th>\n",
       "      <th>Heading</th>\n",
       "      <th>total_missing</th>\n",
       "      <th>Percentage_missing</th>\n",
       "    </tr>\n",
       "  </thead>\n",
       "  <tbody>\n",
       "    <tr>\n",
       "      <th>last_name</th>\n",
       "      <td>last_name</td>\n",
       "      <td>125</td>\n",
       "      <td>3.125</td>\n",
       "    </tr>\n",
       "    <tr>\n",
       "      <th>DOB</th>\n",
       "      <td>DOB</td>\n",
       "      <td>87</td>\n",
       "      <td>2.175</td>\n",
       "    </tr>\n",
       "    <tr>\n",
       "      <th>job_title</th>\n",
       "      <td>job_title</td>\n",
       "      <td>506</td>\n",
       "      <td>12.650</td>\n",
       "    </tr>\n",
       "    <tr>\n",
       "      <th>job_industry_category</th>\n",
       "      <td>job_industry_category</td>\n",
       "      <td>656</td>\n",
       "      <td>16.400</td>\n",
       "    </tr>\n",
       "    <tr>\n",
       "      <th>default</th>\n",
       "      <td>default</td>\n",
       "      <td>302</td>\n",
       "      <td>7.550</td>\n",
       "    </tr>\n",
       "    <tr>\n",
       "      <th>tenure</th>\n",
       "      <td>tenure</td>\n",
       "      <td>87</td>\n",
       "      <td>2.175</td>\n",
       "    </tr>\n",
       "  </tbody>\n",
       "</table>\n",
       "</div>"
      ],
      "text/plain": [
       "                                     Heading  total_missing  \\\n",
       "last_name                          last_name            125   \n",
       "DOB                                      DOB             87   \n",
       "job_title                          job_title            506   \n",
       "job_industry_category  job_industry_category            656   \n",
       "default                              default            302   \n",
       "tenure                                tenure             87   \n",
       "\n",
       "                       Percentage_missing  \n",
       "last_name                           3.125  \n",
       "DOB                                 2.175  \n",
       "job_title                          12.650  \n",
       "job_industry_category              16.400  \n",
       "default                             7.550  \n",
       "tenure                              2.175  "
      ]
     },
     "execution_count": 17,
     "metadata": {},
     "output_type": "execute_result"
    }
   ],
   "source": [
    "missing_data=pd.DataFrame({'Heading': df.columns, 'total_missing': missing_count,'Percentage_missing': percentageMissing})\n",
    "missing_data.sort_values('total_missing', ascending=False)\n",
    "missing_data=missing_data.loc[missing_data['total_missing'] > 0]\n",
    "missing_data"
   ]
  },
  {
   "cell_type": "code",
   "execution_count": 18,
   "metadata": {},
   "outputs": [],
   "source": [
    "missing_data.to_csv('missing_data_CustomerDemographic.csv', index=False)"
   ]
  },
  {
   "cell_type": "markdown",
   "metadata": {},
   "source": [
    "## Deteriming if duplicate value is there in the data frame"
   ]
  },
  {
   "cell_type": "code",
   "execution_count": 19,
   "metadata": {},
   "outputs": [
    {
     "data": {
      "text/html": [
       "<div>\n",
       "<style scoped>\n",
       "    .dataframe tbody tr th:only-of-type {\n",
       "        vertical-align: middle;\n",
       "    }\n",
       "\n",
       "    .dataframe tbody tr th {\n",
       "        vertical-align: top;\n",
       "    }\n",
       "\n",
       "    .dataframe thead th {\n",
       "        text-align: right;\n",
       "    }\n",
       "</style>\n",
       "<table border=\"1\" class=\"dataframe\">\n",
       "  <thead>\n",
       "    <tr style=\"text-align: right;\">\n",
       "      <th></th>\n",
       "      <th>customer_id</th>\n",
       "      <th>first_name</th>\n",
       "      <th>last_name</th>\n",
       "      <th>gender</th>\n",
       "      <th>past_3_years_bike_related_purchases</th>\n",
       "      <th>DOB</th>\n",
       "      <th>job_title</th>\n",
       "      <th>job_industry_category</th>\n",
       "      <th>wealth_segment</th>\n",
       "      <th>deceased_indicator</th>\n",
       "      <th>default</th>\n",
       "      <th>owns_car</th>\n",
       "      <th>tenure</th>\n",
       "    </tr>\n",
       "  </thead>\n",
       "  <tbody>\n",
       "  </tbody>\n",
       "</table>\n",
       "</div>"
      ],
      "text/plain": [
       "Empty DataFrame\n",
       "Columns: [customer_id, first_name, last_name, gender, past_3_years_bike_related_purchases, DOB, job_title, job_industry_category, wealth_segment, deceased_indicator, default, owns_car, tenure]\n",
       "Index: []"
      ]
     },
     "execution_count": 19,
     "metadata": {},
     "output_type": "execute_result"
    }
   ],
   "source": [
    "duplicate=df[df.duplicated()]\n",
    "duplicate"
   ]
  },
  {
   "cell_type": "code",
   "execution_count": 20,
   "metadata": {},
   "outputs": [
    {
     "data": {
      "text/plain": [
       "0"
      ]
     },
     "execution_count": 20,
     "metadata": {},
     "output_type": "execute_result"
    }
   ],
   "source": [
    "len(duplicate)"
   ]
  },
  {
   "cell_type": "markdown",
   "metadata": {},
   "source": [
    "## Viewing categorical data"
   ]
  },
  {
   "cell_type": "code",
   "execution_count": 21,
   "metadata": {},
   "outputs": [
    {
     "data": {
      "text/plain": [
       "Female    2037\n",
       "Male      1872\n",
       "U           88\n",
       "F            1\n",
       "Femal        1\n",
       "M            1\n",
       "Name: gender, dtype: int64"
      ]
     },
     "execution_count": 21,
     "metadata": {},
     "output_type": "execute_result"
    }
   ],
   "source": [
    "df['gender'].value_counts()"
   ]
  },
  {
   "cell_type": "markdown",
   "metadata": {},
   "source": [
    "Ohhh !! There is inconsistency in data. This issue in column 'gender' needs to be addressed. Before that let us check another columns.."
   ]
  },
  {
   "cell_type": "code",
   "execution_count": 22,
   "metadata": {},
   "outputs": [
    {
     "data": {
      "text/plain": [
       "Business Systems Development Analyst    45\n",
       "Social Worker                           44\n",
       "Tax Accountant                          44\n",
       "Internal Auditor                        42\n",
       "Legal Assistant                         41\n",
       "Recruiting Manager                      41\n",
       "General Manager                         40\n",
       "Associate Professor                     39\n",
       "Structural Engineer                     39\n",
       "Junior Executive                        38\n",
       "Desktop Support Technician              38\n",
       "Sales Representative                    38\n",
       "Senior Financial Analyst                37\n",
       "Technical Writer                        37\n",
       "Executive Secretary                     37\n",
       "Chemical Engineer                       37\n",
       "Dental Hygienist                        37\n",
       "Registered Nurse                        36\n",
       "Senior Developer                        36\n",
       "Cost Accountant                         36\n",
       "Assistant Professor                     36\n",
       "Product Engineer                        36\n",
       "Food Chemist                            35\n",
       "VP Product Management                   34\n",
       "Administrative Officer                  34\n",
       "Assistant Media Planner                 33\n",
       "Account Executive                       33\n",
       "Research Nurse                          33\n",
       "VP Quality Control                      33\n",
       "Information Systems Manager             33\n",
       "                                        ..\n",
       "Programmer IV                            6\n",
       "Web Developer II                         6\n",
       "Web Developer IV                         6\n",
       "Media Manager I                          6\n",
       "Software Engineer I                      6\n",
       "Software Engineer IV                     6\n",
       "Budget/Accounting Analyst III            6\n",
       "Safety Technician IV                     6\n",
       "Statistician III                         6\n",
       "Programmer I                             6\n",
       "Research Assistant I                     5\n",
       "Automation Specialist III                5\n",
       "Biostatistician III                      5\n",
       "Staff Accountant IV                      5\n",
       "Research Assistant IV                    5\n",
       "Developer IV                             5\n",
       "Systems Administrator IV                 4\n",
       "Staff Accountant I                       4\n",
       "Database Administrator I                 4\n",
       "Database Administrator II                4\n",
       "Account Representative II                4\n",
       "Human Resources Assistant IV             4\n",
       "Computer Systems Analyst III             4\n",
       "Administrative Assistant II              4\n",
       "Geologist II                             4\n",
       "Programmer Analyst IV                    4\n",
       "Health Coach I                           3\n",
       "Research Assistant III                   3\n",
       "Health Coach III                         3\n",
       "Developer I                              1\n",
       "Name: job_title, Length: 195, dtype: int64"
      ]
     },
     "execution_count": 22,
     "metadata": {},
     "output_type": "execute_result"
    }
   ],
   "source": [
    "df['job_title'].value_counts()"
   ]
  },
  {
   "cell_type": "code",
   "execution_count": 23,
   "metadata": {},
   "outputs": [
    {
     "data": {
      "text/plain": [
       "Manufacturing         799\n",
       "Financial Services    774\n",
       "Health                602\n",
       "Retail                358\n",
       "Property              267\n",
       "IT                    223\n",
       "Entertainment         136\n",
       "Argiculture           113\n",
       "Telecommunications     72\n",
       "Name: job_industry_category, dtype: int64"
      ]
     },
     "execution_count": 23,
     "metadata": {},
     "output_type": "execute_result"
    }
   ],
   "source": [
    "df['job_industry_category'].value_counts()"
   ]
  },
  {
   "cell_type": "code",
   "execution_count": 24,
   "metadata": {},
   "outputs": [
    {
     "data": {
      "text/plain": [
       "Mass Customer        2000\n",
       "High Net Worth       1021\n",
       "Affluent Customer     979\n",
       "Name: wealth_segment, dtype: int64"
      ]
     },
     "execution_count": 24,
     "metadata": {},
     "output_type": "execute_result"
    }
   ],
   "source": [
    "df['wealth_segment'].value_counts()"
   ]
  },
  {
   "cell_type": "code",
   "execution_count": 25,
   "metadata": {},
   "outputs": [
    {
     "data": {
      "text/plain": [
       "N    3998\n",
       "Y       2\n",
       "Name: deceased_indicator, dtype: int64"
      ]
     },
     "execution_count": 25,
     "metadata": {},
     "output_type": "execute_result"
    }
   ],
   "source": [
    "df['deceased_indicator'].value_counts()"
   ]
  },
  {
   "cell_type": "code",
   "execution_count": 26,
   "metadata": {},
   "outputs": [
    {
     "data": {
      "text/plain": [
       "Yes    2024\n",
       "No     1976\n",
       "Name: owns_car, dtype: int64"
      ]
     },
     "execution_count": 26,
     "metadata": {},
     "output_type": "execute_result"
    }
   ],
   "source": [
    "df['owns_car'].value_counts()"
   ]
  },
  {
   "cell_type": "markdown",
   "metadata": {},
   "source": [
    "## Solving issues of 'gender' column's inconsistency "
   ]
  },
  {
   "cell_type": "code",
   "execution_count": 27,
   "metadata": {},
   "outputs": [
    {
     "data": {
      "text/plain": [
       "F    2039\n",
       "M    1873\n",
       "U      88\n",
       "Name: gender, dtype: int64"
      ]
     },
     "execution_count": 27,
     "metadata": {},
     "output_type": "execute_result"
    }
   ],
   "source": [
    "df=df.replace({'gender':{'Female':'F','Male':'M','Femal':'F'}})\n",
    "df['gender'].value_counts()"
   ]
  },
  {
   "cell_type": "markdown",
   "metadata": {},
   "source": [
    "## Adding Age (Calculated from DOB) into data frame "
   ]
  },
  {
   "cell_type": "code",
   "execution_count": 28,
   "metadata": {},
   "outputs": [],
   "source": [
    "now = pd.Timestamp('now')"
   ]
  },
  {
   "cell_type": "code",
   "execution_count": 29,
   "metadata": {},
   "outputs": [
    {
     "data": {
      "text/plain": [
       "0   1953-10-12\n",
       "1   1980-12-16\n",
       "2   1954-01-20\n",
       "3   1961-10-03\n",
       "4   1977-05-13\n",
       "Name: DOB, dtype: datetime64[ns]"
      ]
     },
     "execution_count": 29,
     "metadata": {},
     "output_type": "execute_result"
    }
   ],
   "source": [
    "df['DOB']=pd.to_datetime(df['DOB'], format='%m%d%y')\n",
    "df['DOB'].head()"
   ]
  },
  {
   "cell_type": "code",
   "execution_count": 30,
   "metadata": {},
   "outputs": [
    {
     "data": {
      "text/plain": [
       "0    69.0\n",
       "1    41.0\n",
       "2    68.0\n",
       "3    61.0\n",
       "4    45.0\n",
       "Name: age, dtype: float64"
      ]
     },
     "execution_count": 30,
     "metadata": {},
     "output_type": "execute_result"
    }
   ],
   "source": [
    "df['DOB']=df['DOB'].where(df['DOB']<now,df['DOB']-np.timedelta64(100,'Y'))\n",
    "df['age']=(now-df['DOB']).astype('<m8[Y]')\n",
    "df['age'].head()"
   ]
  },
  {
   "cell_type": "code",
   "execution_count": 32,
   "metadata": {},
   "outputs": [
    {
     "data": {
      "text/plain": [
       "count    3913.000000\n",
       "mean       44.885254\n",
       "std        12.791863\n",
       "min        20.000000\n",
       "25%        35.000000\n",
       "50%        45.000000\n",
       "75%        54.000000\n",
       "max       178.000000\n",
       "Name: age, dtype: float64"
      ]
     },
     "execution_count": 32,
     "metadata": {},
     "output_type": "execute_result"
    }
   ],
   "source": [
    "df['age'].describe()"
   ]
  },
  {
   "cell_type": "markdown",
   "metadata": {},
   "source": [
    "Maximum age observed is 178 years. There may be typing mistake. Let us remove any record age of which is beyond 100 years."
   ]
  },
  {
   "cell_type": "code",
   "execution_count": 37,
   "metadata": {},
   "outputs": [
    {
     "data": {
      "text/plain": [
       "Int64Index([33], dtype='int64')"
      ]
     },
     "execution_count": 37,
     "metadata": {},
     "output_type": "execute_result"
    }
   ],
   "source": [
    "indices = df[df['age']>100 ].index\n",
    "indices"
   ]
  },
  {
   "cell_type": "code",
   "execution_count": 38,
   "metadata": {},
   "outputs": [],
   "source": [
    "df.drop(indices, inplace = True)"
   ]
  },
  {
   "cell_type": "markdown",
   "metadata": {},
   "source": [
    "## Save the data frame in '.csv' fromat"
   ]
  },
  {
   "cell_type": "code",
   "execution_count": 31,
   "metadata": {},
   "outputs": [],
   "source": [
    "df.to_csv('CustomerDemographic_Done.csv', index=False)"
   ]
  }
 ],
 "metadata": {
  "kernelspec": {
   "display_name": "Python 3",
   "language": "python",
   "name": "python3"
  },
  "language_info": {
   "codemirror_mode": {
    "name": "ipython",
    "version": 3
   },
   "file_extension": ".py",
   "mimetype": "text/x-python",
   "name": "python",
   "nbconvert_exporter": "python",
   "pygments_lexer": "ipython3",
   "version": "3.7.3"
  }
 },
 "nbformat": 4,
 "nbformat_minor": 2
}
